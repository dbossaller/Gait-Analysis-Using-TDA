{
 "cells": [
  {
   "cell_type": "code",
   "execution_count": null,
   "id": "cb0d29d4",
   "metadata": {},
   "outputs": [],
   "source": [
    "import numpy as np\n",
    "import pandas as pd\n",
    "import matplotlib.pyplot as plt\n",
    "\n",
    "from find_walking_frames import find_walking_data\n",
    "from pre_process import conv_acceleration, find_period_acf\n",
    "\n",
    "directory = 'data/'\n",
    "\n",
    "subject_num = '1'"
   ]
  },
  {
   "cell_type": "code",
   "execution_count": null,
   "id": "1aa671d3",
   "metadata": {},
   "outputs": [],
   "source": [
    "sub_walks = find_walking_data(subject_num, directory)\n",
    "\n",
    "walk_df = sub_walks['01_05'][1][['acc_rt_x','acc_rt_y','acc_rt_z','acc_lt_x','acc_lt_y','acc_lt_z']]\n",
    "\n",
    "df_accel = pd.DataFrame(None)\n",
    "\n",
    "for column in walk_df.columns:\n",
    "    df_accel[column] = walk_df[column].apply(conv_acceleration)\n",
    "\n",
    "df_accel = df_accel[200:(-1 - 200)]"
   ]
  },
  {
   "cell_type": "code",
   "execution_count": null,
   "id": "6704853b",
   "metadata": {},
   "outputs": [],
   "source": [
    "plt.plot(df_accel['acc_rt_y'])"
   ]
  },
  {
   "cell_type": "code",
   "execution_count": null,
   "id": "d883991e",
   "metadata": {},
   "outputs": [],
   "source": [
    "period = find_period_acf(df_accel['acc_rt_y'], 150)"
   ]
  },
  {
   "cell_type": "code",
   "execution_count": null,
   "id": "bb49b73d",
   "metadata": {},
   "outputs": [],
   "source": [
    "# Find location of maximum of the first 1.75 periods\n",
    "\n",
    "max_idx = np.argmax(df_accel['acc_rt_y'][0:7*period//4])\n",
    "\n",
    "df_accel_4p = df_accel[max_idx:max_idx + 4*period]\n",
    "\n",
    "four_period_rt_y = np.array(df_accel_4p['acc_rt_y'])\n",
    "\n",
    "four_period_rt_y"
   ]
  },
  {
   "cell_type": "code",
   "execution_count": null,
   "id": "854f414e",
   "metadata": {},
   "outputs": [],
   "source": [
    "from teaspoon.TDA.SLSP import Persistence0D\n",
    "\n",
    "feature_ind1, feature_ind_2, persistenceDgm = Persistence0D(four_period_rt_y)\n",
    "\n",
    "# Persistence0D outputs the intervals in ascending length order, so in order to drop the four largest, we can just take a slice D[0:-4]\n",
    "R = persistenceDgm[:-4]\n",
    "\n",
    "plt.plot(R.T[0], R.T[1], 'ro')\n",
    "plt.plot([min(four_period_rt_y),max(four_period_rt_y)],[min(four_period_rt_y),max(four_period_rt_y)], 'k--')"
   ]
  },
  {
   "cell_type": "code",
   "execution_count": null,
   "id": "4550d09f",
   "metadata": {},
   "outputs": [],
   "source": [
    "# Find location of maximum of the first 1.75 periods\n",
    "\n",
    "max_idx = np.argmax(df_accel['acc_lt_y'][0:7*period//4])\n",
    "\n",
    "df_accel_4p = df_accel[max_idx:max_idx + 4*period]\n",
    "\n",
    "four_period_lt_y = np.array(df_accel_4p['acc_lt_y'])\n",
    "\n",
    "four_period_lt_y"
   ]
  },
  {
   "cell_type": "code",
   "execution_count": null,
   "id": "60cad50b",
   "metadata": {},
   "outputs": [],
   "source": [
    "feature_ind1, feature_ind_2, persistenceDgm = Persistence0D(four_period_lt_y)\n",
    "\n",
    "# Persistence0D outputs the intervals in ascending length order, so in order to drop the four largest, we can just take a slice D[0:-4]\n",
    "L = persistenceDgm[:-4]\n",
    "\n",
    "plt.plot(L.T[0], L.T[1], 'ro')\n",
    "plt.plot([min(four_period_rt_y),max(four_period_rt_y)],[min(four_period_rt_y),max(four_period_rt_y)], 'k--')"
   ]
  },
  {
   "cell_type": "code",
   "execution_count": null,
   "id": "95a604a3",
   "metadata": {},
   "outputs": [],
   "source": [
    "from teaspoon.TDA.Distance import bottleneckDist\n",
    "\n",
    "bottleneckDist(R,L)\n",
    "\n"
   ]
  },
  {
   "cell_type": "code",
   "execution_count": null,
   "id": "4e26d223",
   "metadata": {},
   "outputs": [],
   "source": []
  }
 ],
 "metadata": {
  "kernelspec": {
   "display_name": "hugait-tda",
   "language": "python",
   "name": "python3"
  },
  "language_info": {
   "codemirror_mode": {
    "name": "ipython",
    "version": 3
   },
   "file_extension": ".py",
   "mimetype": "text/x-python",
   "name": "python",
   "nbconvert_exporter": "python",
   "pygments_lexer": "ipython3",
   "version": "3.11.13"
  }
 },
 "nbformat": 4,
 "nbformat_minor": 5
}
