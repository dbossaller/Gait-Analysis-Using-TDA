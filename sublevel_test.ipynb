{
 "cells": [
  {
   "cell_type": "code",
   "execution_count": null,
   "id": "cb0d29d4",
   "metadata": {},
   "outputs": [],
   "source": [
    "import numpy\n",
    "import scipy\n",
    "import pandas as pd\n",
    "import matplotlib.pyplot as plt\n",
    "\n",
    "from find_walking_frames import find_walking_data\n",
    "from pre_process import conv_acceleration, find_period_acf\n",
    "\n",
    "directory = 'data/'\n",
    "\n",
    "subject_num = '1'"
   ]
  },
  {
   "cell_type": "code",
   "execution_count": null,
   "id": "1aa671d3",
   "metadata": {},
   "outputs": [],
   "source": [
    "sub_walks = find_walking_data(subject_num, directory)\n",
    "\n",
    "walk_df = sub_walks['01_05'][1][['acc_rt_x','acc_rt_y','acc_rt_z','acc_lt_x','acc_lt_y','acc_lt_z']]\n",
    "\n",
    "df_accel = pd.DataFrame(None)\n",
    "\n",
    "for column in walk_df.columns:\n",
    "    df_accel[column] = walk_df[column].apply(conv_acceleration)\n",
    "\n",
    "df_accel = df_accel[200:(-1 - 200)]"
   ]
  },
  {
   "cell_type": "code",
   "execution_count": null,
   "id": "6704853b",
   "metadata": {},
   "outputs": [],
   "source": [
    "plt.plot(df_accel['acc_rt_z'])"
   ]
  },
  {
   "cell_type": "code",
   "execution_count": null,
   "id": "d883991e",
   "metadata": {},
   "outputs": [],
   "source": [
    "period = find_period_acf(df_accel['acc_rt_y'], 150)"
   ]
  },
  {
   "cell_type": "code",
   "execution_count": null,
   "id": "bb49b73d",
   "metadata": {},
   "outputs": [],
   "source": []
  }
 ],
 "metadata": {
  "kernelspec": {
   "display_name": "hugait-tda",
   "language": "python",
   "name": "python3"
  },
  "language_info": {
   "codemirror_mode": {
    "name": "ipython",
    "version": 3
   },
   "file_extension": ".py",
   "mimetype": "text/x-python",
   "name": "python",
   "nbconvert_exporter": "python",
   "pygments_lexer": "ipython3",
   "version": "3.11.7"
  }
 },
 "nbformat": 4,
 "nbformat_minor": 5
}
