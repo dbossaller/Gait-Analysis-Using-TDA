{
 "cells": [
  {
   "cell_type": "code",
   "execution_count": null,
   "id": "7ed0f340",
   "metadata": {},
   "outputs": [],
   "source": [
    "import pandas as pd\n",
    "import numpy as np\n",
    "\n",
    "from gait_pipeline import topological_transform\n",
    "\n",
    "from pre_process import find_period_acf\n",
    "from construct_dataset import load_data_from_json\n",
    "\n",
    "\n",
    "filename = './Datasets/left_thigh_1.json'"
   ]
  },
  {
   "cell_type": "code",
   "execution_count": null,
   "id": "11bd6663",
   "metadata": {},
   "outputs": [],
   "source": [
    "full_dataset = load_data_from_json(filename)\n",
    "\n",
    "full_dataset.keys()"
   ]
  },
  {
   "cell_type": "code",
   "execution_count": null,
   "id": "96c00322",
   "metadata": {},
   "outputs": [],
   "source": [
    "entropies = []\n",
    "for subject in full_dataset.keys():\n",
    "    for measurement in full_dataset[subject]:\n",
    "        measurement = np.array(measurement['acc_lt_z']).reshape(1,-1)\n",
    "        H0, H1 = topological_transform(measurement)[0]\n",
    "        entropies.append([subject, H0, H1])"
   ]
  },
  {
   "cell_type": "code",
   "execution_count": null,
   "id": "7b3898bf",
   "metadata": {},
   "outputs": [],
   "source": [
    "entropy_df = pd.DataFrame(entropies, columns = ['subject', 'H0_Entropy', 'H1_Entropy'])\n",
    "\n",
    "entropy_df['sub1'] = entropy_df['subject'].apply(lambda x: True if x == 1 else False)"
   ]
  },
  {
   "cell_type": "code",
   "execution_count": null,
   "id": "efa2846f",
   "metadata": {},
   "outputs": [],
   "source": [
    "from sklearn.model_selection import train_test_split\n",
    "\n",
    "X = entropy_df.drop(['subject','sub1'], axis = 1)\n",
    "y = entropy_df['sub1']\n",
    "\n",
    "X_train,X_test, y_train, y_test = train_test_split(X, y, test_size=.33)"
   ]
  },
  {
   "cell_type": "code",
   "execution_count": null,
   "id": "571a0d77",
   "metadata": {},
   "outputs": [],
   "source": [
    "from sklearn.tree import DecisionTreeClassifier\n",
    "\n",
    "clf = DecisionTreeClassifier(max_depth=3)"
   ]
  },
  {
   "cell_type": "code",
   "execution_count": null,
   "id": "be69ac32",
   "metadata": {},
   "outputs": [],
   "source": [
    "clf.fit(X_train, y_train)"
   ]
  },
  {
   "cell_type": "code",
   "execution_count": null,
   "id": "2631c6df",
   "metadata": {},
   "outputs": [],
   "source": [
    "y_pred = clf.predict(X_test)"
   ]
  },
  {
   "cell_type": "code",
   "execution_count": null,
   "id": "969030f7",
   "metadata": {},
   "outputs": [],
   "source": [
    "from sklearn.metrics import classification_report,confusion_matrix\n",
    "\n",
    "print(classification_report(y_test, y_pred))\n",
    "print(confusion_matrix(y_test,y_pred))"
   ]
  },
  {
   "cell_type": "code",
   "execution_count": null,
   "id": "08558e36",
   "metadata": {},
   "outputs": [],
   "source": []
  }
 ],
 "metadata": {
  "kernelspec": {
   "display_name": "hugait-tda",
   "language": "python",
   "name": "python3"
  },
  "language_info": {
   "codemirror_mode": {
    "name": "ipython",
    "version": 3
   },
   "file_extension": ".py",
   "mimetype": "text/x-python",
   "name": "python",
   "nbconvert_exporter": "python",
   "pygments_lexer": "ipython3",
   "version": "3.11.13"
  }
 },
 "nbformat": 4,
 "nbformat_minor": 5
}
