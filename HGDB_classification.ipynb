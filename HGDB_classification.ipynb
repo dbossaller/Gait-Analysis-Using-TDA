{
 "cells": [
  {
   "cell_type": "code",
   "execution_count": 37,
   "id": "7ed0f340",
   "metadata": {},
   "outputs": [],
   "source": [
    "import pandas as pd\n",
    "import numpy as np\n",
    "\n",
    "from gait_pipeline import topological_transform\n",
    "\n",
    "from pre_process import find_period_acf\n",
    "from construct_dataset import load_data_from_json\n",
    "\n",
    "\n",
    "filename = './Datasets/left_thigh_1.json'"
   ]
  },
  {
   "cell_type": "code",
   "execution_count": 38,
   "id": "11bd6663",
   "metadata": {},
   "outputs": [
    {
     "data": {
      "text/plain": [
       "list"
      ]
     },
     "execution_count": 38,
     "metadata": {},
     "output_type": "execute_result"
    }
   ],
   "source": [
    "full_dataset = load_data_from_json(filename)\n",
    "\n",
    "type(full_dataset[1])"
   ]
  },
  {
   "cell_type": "code",
   "execution_count": 39,
   "id": "96c00322",
   "metadata": {},
   "outputs": [],
   "source": [
    "entropies = []\n",
    "for subject in full_dataset.keys():\n",
    "    for measurement in full_dataset[subject]:\n",
    "        measurement = np.array(measurement['acc_lt_z']).reshape(1,-1)\n",
    "        H0, H1 = topological_transform(measurement)[0]\n",
    "        entropies.append([subject, H0, H1])"
   ]
  },
  {
   "cell_type": "code",
   "execution_count": 40,
   "id": "7b3898bf",
   "metadata": {},
   "outputs": [],
   "source": [
    "entropy_df = pd.DataFrame(entropies, columns = ['subject', 'H0_Entropy', 'H1_Entropy'])"
   ]
  },
  {
   "cell_type": "code",
   "execution_count": 41,
   "id": "efa2846f",
   "metadata": {},
   "outputs": [],
   "source": [
    "from sklearn.model_selection import train_test_split\n",
    "\n",
    "X = entropy_df.drop('subject', axis = 1)\n",
    "y = entropy_df['subject']\n",
    "\n",
    "X_train,X_test, y_train, y_test = train_test_split(X, y, test_size=.15)"
   ]
  },
  {
   "cell_type": "code",
   "execution_count": 42,
   "id": "571a0d77",
   "metadata": {},
   "outputs": [],
   "source": [
    "from sklearn.tree import DecisionTreeClassifier\n",
    "\n",
    "clf = DecisionTreeClassifier(max_depth=6)"
   ]
  },
  {
   "cell_type": "code",
   "execution_count": 43,
   "id": "be69ac32",
   "metadata": {},
   "outputs": [
    {
     "data": {
      "text/html": [
       "<style>#sk-container-id-3 {color: black;}#sk-container-id-3 pre{padding: 0;}#sk-container-id-3 div.sk-toggleable {background-color: white;}#sk-container-id-3 label.sk-toggleable__label {cursor: pointer;display: block;width: 100%;margin-bottom: 0;padding: 0.3em;box-sizing: border-box;text-align: center;}#sk-container-id-3 label.sk-toggleable__label-arrow:before {content: \"▸\";float: left;margin-right: 0.25em;color: #696969;}#sk-container-id-3 label.sk-toggleable__label-arrow:hover:before {color: black;}#sk-container-id-3 div.sk-estimator:hover label.sk-toggleable__label-arrow:before {color: black;}#sk-container-id-3 div.sk-toggleable__content {max-height: 0;max-width: 0;overflow: hidden;text-align: left;background-color: #f0f8ff;}#sk-container-id-3 div.sk-toggleable__content pre {margin: 0.2em;color: black;border-radius: 0.25em;background-color: #f0f8ff;}#sk-container-id-3 input.sk-toggleable__control:checked~div.sk-toggleable__content {max-height: 200px;max-width: 100%;overflow: auto;}#sk-container-id-3 input.sk-toggleable__control:checked~label.sk-toggleable__label-arrow:before {content: \"▾\";}#sk-container-id-3 div.sk-estimator input.sk-toggleable__control:checked~label.sk-toggleable__label {background-color: #d4ebff;}#sk-container-id-3 div.sk-label input.sk-toggleable__control:checked~label.sk-toggleable__label {background-color: #d4ebff;}#sk-container-id-3 input.sk-hidden--visually {border: 0;clip: rect(1px 1px 1px 1px);clip: rect(1px, 1px, 1px, 1px);height: 1px;margin: -1px;overflow: hidden;padding: 0;position: absolute;width: 1px;}#sk-container-id-3 div.sk-estimator {font-family: monospace;background-color: #f0f8ff;border: 1px dotted black;border-radius: 0.25em;box-sizing: border-box;margin-bottom: 0.5em;}#sk-container-id-3 div.sk-estimator:hover {background-color: #d4ebff;}#sk-container-id-3 div.sk-parallel-item::after {content: \"\";width: 100%;border-bottom: 1px solid gray;flex-grow: 1;}#sk-container-id-3 div.sk-label:hover label.sk-toggleable__label {background-color: #d4ebff;}#sk-container-id-3 div.sk-serial::before {content: \"\";position: absolute;border-left: 1px solid gray;box-sizing: border-box;top: 0;bottom: 0;left: 50%;z-index: 0;}#sk-container-id-3 div.sk-serial {display: flex;flex-direction: column;align-items: center;background-color: white;padding-right: 0.2em;padding-left: 0.2em;position: relative;}#sk-container-id-3 div.sk-item {position: relative;z-index: 1;}#sk-container-id-3 div.sk-parallel {display: flex;align-items: stretch;justify-content: center;background-color: white;position: relative;}#sk-container-id-3 div.sk-item::before, #sk-container-id-3 div.sk-parallel-item::before {content: \"\";position: absolute;border-left: 1px solid gray;box-sizing: border-box;top: 0;bottom: 0;left: 50%;z-index: -1;}#sk-container-id-3 div.sk-parallel-item {display: flex;flex-direction: column;z-index: 1;position: relative;background-color: white;}#sk-container-id-3 div.sk-parallel-item:first-child::after {align-self: flex-end;width: 50%;}#sk-container-id-3 div.sk-parallel-item:last-child::after {align-self: flex-start;width: 50%;}#sk-container-id-3 div.sk-parallel-item:only-child::after {width: 0;}#sk-container-id-3 div.sk-dashed-wrapped {border: 1px dashed gray;margin: 0 0.4em 0.5em 0.4em;box-sizing: border-box;padding-bottom: 0.4em;background-color: white;}#sk-container-id-3 div.sk-label label {font-family: monospace;font-weight: bold;display: inline-block;line-height: 1.2em;}#sk-container-id-3 div.sk-label-container {text-align: center;}#sk-container-id-3 div.sk-container {/* jupyter's `normalize.less` sets `[hidden] { display: none; }` but bootstrap.min.css set `[hidden] { display: none !important; }` so we also need the `!important` here to be able to override the default hidden behavior on the sphinx rendered scikit-learn.org. See: https://github.com/scikit-learn/scikit-learn/issues/21755 */display: inline-block !important;position: relative;}#sk-container-id-3 div.sk-text-repr-fallback {display: none;}</style><div id=\"sk-container-id-3\" class=\"sk-top-container\"><div class=\"sk-text-repr-fallback\"><pre>DecisionTreeClassifier(max_depth=6)</pre><b>In a Jupyter environment, please rerun this cell to show the HTML representation or trust the notebook. <br />On GitHub, the HTML representation is unable to render, please try loading this page with nbviewer.org.</b></div><div class=\"sk-container\" hidden><div class=\"sk-item\"><div class=\"sk-estimator sk-toggleable\"><input class=\"sk-toggleable__control sk-hidden--visually\" id=\"sk-estimator-id-3\" type=\"checkbox\" checked><label for=\"sk-estimator-id-3\" class=\"sk-toggleable__label sk-toggleable__label-arrow\">DecisionTreeClassifier</label><div class=\"sk-toggleable__content\"><pre>DecisionTreeClassifier(max_depth=6)</pre></div></div></div></div></div>"
      ],
      "text/plain": [
       "DecisionTreeClassifier(max_depth=6)"
      ]
     },
     "execution_count": 43,
     "metadata": {},
     "output_type": "execute_result"
    }
   ],
   "source": [
    "clf.fit(X_train, y_train)"
   ]
  },
  {
   "cell_type": "code",
   "execution_count": 44,
   "id": "2631c6df",
   "metadata": {},
   "outputs": [],
   "source": [
    "y_pred = clf.predict(X_test)"
   ]
  },
  {
   "cell_type": "code",
   "execution_count": 45,
   "id": "969030f7",
   "metadata": {},
   "outputs": [
    {
     "name": "stdout",
     "output_type": "stream",
     "text": [
      "              precision    recall  f1-score   support\n",
      "\n",
      "           1       0.43      0.43      0.43         7\n",
      "           3       0.25      0.67      0.36         6\n",
      "           4       0.25      0.29      0.27         7\n",
      "           5       1.00      0.60      0.75         5\n",
      "           6       1.00      0.11      0.20         9\n",
      "           7       0.00      0.00      0.00         8\n",
      "           8       0.60      0.60      0.60         5\n",
      "           9       0.33      0.29      0.31         7\n",
      "          10       0.50      0.09      0.15        11\n",
      "          11       0.17      0.08      0.11        12\n",
      "          12       0.08      0.50      0.14         6\n",
      "          14       0.50      0.20      0.29         5\n",
      "          15       0.38      0.50      0.43         6\n",
      "          16       0.50      0.38      0.43         8\n",
      "          17       0.31      0.44      0.36         9\n",
      "          18       0.00      0.00      0.00         9\n",
      "\n",
      "    accuracy                           0.28       120\n",
      "   macro avg       0.39      0.32      0.30       120\n",
      "weighted avg       0.38      0.28      0.27       120\n",
      "\n",
      "[[3 0 1 0 0 0 0 0 0 0 3 0 0 0 0 0]\n",
      " [0 4 0 0 0 0 0 0 0 1 1 0 0 0 0 0]\n",
      " [0 1 2 0 0 0 1 0 0 0 1 0 0 0 2 0]\n",
      " [0 2 0 3 0 0 0 0 0 0 0 0 0 0 0 0]\n",
      " [1 2 0 0 1 0 0 1 0 1 2 0 0 1 0 0]\n",
      " [0 3 1 0 0 0 0 0 0 1 1 0 1 0 1 0]\n",
      " [1 0 0 0 0 0 3 0 0 0 1 0 0 0 0 0]\n",
      " [0 0 0 0 0 0 0 2 0 0 5 0 0 0 0 0]\n",
      " [0 0 2 0 0 0 0 2 1 1 3 0 2 0 0 0]\n",
      " [0 2 0 0 0 0 0 0 1 1 1 0 2 1 4 0]\n",
      " [0 1 1 0 0 0 0 0 0 1 3 0 0 0 0 0]\n",
      " [1 1 0 0 0 0 0 0 0 0 2 1 0 0 0 0]\n",
      " [0 0 0 0 0 0 0 0 0 0 3 0 3 0 0 0]\n",
      " [0 0 0 0 0 0 1 1 0 0 0 1 0 3 2 0]\n",
      " [0 0 1 0 0 0 0 0 0 0 3 0 0 1 4 0]\n",
      " [1 0 0 0 0 0 0 0 0 0 8 0 0 0 0 0]]\n"
     ]
    },
    {
     "name": "stderr",
     "output_type": "stream",
     "text": [
      "/home/dan-bossaller/Desktop/TDA/HuGaDB: Human Gait Database/hugait_tda/.venv/lib/python3.11/site-packages/sklearn/metrics/_classification.py:1471: UndefinedMetricWarning: Precision and F-score are ill-defined and being set to 0.0 in labels with no predicted samples. Use `zero_division` parameter to control this behavior.\n",
      "  _warn_prf(average, modifier, msg_start, len(result))\n",
      "/home/dan-bossaller/Desktop/TDA/HuGaDB: Human Gait Database/hugait_tda/.venv/lib/python3.11/site-packages/sklearn/metrics/_classification.py:1471: UndefinedMetricWarning: Precision and F-score are ill-defined and being set to 0.0 in labels with no predicted samples. Use `zero_division` parameter to control this behavior.\n",
      "  _warn_prf(average, modifier, msg_start, len(result))\n",
      "/home/dan-bossaller/Desktop/TDA/HuGaDB: Human Gait Database/hugait_tda/.venv/lib/python3.11/site-packages/sklearn/metrics/_classification.py:1471: UndefinedMetricWarning: Precision and F-score are ill-defined and being set to 0.0 in labels with no predicted samples. Use `zero_division` parameter to control this behavior.\n",
      "  _warn_prf(average, modifier, msg_start, len(result))\n"
     ]
    }
   ],
   "source": [
    "from sklearn.metrics import classification_report,confusion_matrix\n",
    "\n",
    "print(classification_report(y_test, y_pred))\n",
    "print(confusion_matrix(y_test,y_pred))"
   ]
  },
  {
   "cell_type": "code",
   "execution_count": null,
   "id": "08558e36",
   "metadata": {},
   "outputs": [],
   "source": []
  }
 ],
 "metadata": {
  "kernelspec": {
   "display_name": "hugait-tda",
   "language": "python",
   "name": "python3"
  },
  "language_info": {
   "codemirror_mode": {
    "name": "ipython",
    "version": 3
   },
   "file_extension": ".py",
   "mimetype": "text/x-python",
   "name": "python",
   "nbconvert_exporter": "python",
   "pygments_lexer": "ipython3",
   "version": "3.11.13"
  }
 },
 "nbformat": 4,
 "nbformat_minor": 5
}
