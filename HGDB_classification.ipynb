{
 "cells": [
  {
   "cell_type": "code",
   "execution_count": null,
   "id": "7ed0f340",
   "metadata": {},
   "outputs": [],
   "source": [
    "import pandas as pd\n",
    "\n",
    "from gait_pipeline import make_dataset, topological_transform\n",
    "\n",
    "from pre_process import find_period_acf\n",
    "\n",
    "\n",
    "directory = 'data/'"
   ]
  },
  {
   "cell_type": "markdown",
   "id": "198658ea",
   "metadata": {},
   "source": []
  },
  {
   "cell_type": "code",
   "execution_count": null,
   "id": "11bd6663",
   "metadata": {},
   "outputs": [],
   "source": [
    "# Constructs a random sample of data by picking random windows of the subjects walking. Using period \n",
    "full_dataset = {}\n",
    "full_entropies = {}\n",
    "\n",
    "for sub_num in range(1,19):\n",
    "    try:\n",
    "        sub_dataset = make_dataset(f'{sub_num}', directory,sample_size = 150)\n",
    "        full_dataset[sub_num] = sub_dataset\n",
    "    except(ValueError):\n",
    "        continue\n",
    "\n",
    "for key in list(full_dataset.keys()):\n",
    "    full_entropies[key] = topological_transform(full_dataset[key])"
   ]
  },
  {
   "cell_type": "code",
   "execution_count": null,
   "id": "96c00322",
   "metadata": {},
   "outputs": [],
   "source": [
    "\n",
    "entropy_period= []\n",
    "\n",
    "for subject in full_entropies.keys():\n",
    "    for measurement, dataset in zip(full_entropies[subject],full_dataset[subject]):\n",
    "        H0, H1 = measurement[0],measurement[1]\n",
    "        period = find_period_acf(dataset, 150)\n",
    "        entropy_period.append([subject, H0,H1,period])"
   ]
  },
  {
   "cell_type": "code",
   "execution_count": null,
   "id": "7b3898bf",
   "metadata": {},
   "outputs": [],
   "source": [
    "entropy_df = pd.DataFrame(entropy_period)"
   ]
  },
  {
   "cell_type": "code",
   "execution_count": null,
   "id": "3534be68",
   "metadata": {},
   "outputs": [],
   "source": [
    "entropy_df.columns = ['subject', 'H0_Entropy', 'H1_Entropy','Period']"
   ]
  },
  {
   "cell_type": "code",
   "execution_count": null,
   "id": "efa2846f",
   "metadata": {},
   "outputs": [],
   "source": [
    "from sklearn.model_selection import train_test_split\n",
    "\n",
    "X = entropy_df.drop('subject', axis = 1)\n",
    "y = entropy_df['subject']\n",
    "\n",
    "X_train,X_test, y_train, y_test = train_test_split(X, y, test_size=.25)"
   ]
  },
  {
   "cell_type": "code",
   "execution_count": null,
   "id": "571a0d77",
   "metadata": {},
   "outputs": [],
   "source": [
    "from sklearn.tree import DecisionTreeClassifier\n",
    "\n",
    "clf = DecisionTreeClassifier(max_depth=10)"
   ]
  },
  {
   "cell_type": "code",
   "execution_count": null,
   "id": "be69ac32",
   "metadata": {},
   "outputs": [],
   "source": [
    "clf.fit(X_train, y_train)"
   ]
  },
  {
   "cell_type": "code",
   "execution_count": null,
   "id": "2631c6df",
   "metadata": {},
   "outputs": [],
   "source": [
    "y_pred = clf.predict(X_test)"
   ]
  },
  {
   "cell_type": "code",
   "execution_count": null,
   "id": "969030f7",
   "metadata": {},
   "outputs": [],
   "source": [
    "from sklearn.metrics import classification_report,confusion_matrix\n",
    "\n",
    "print(classification_report(y_test, y_pred))\n",
    "print(confusion_matrix(y_test,y_pred))"
   ]
  },
  {
   "cell_type": "code",
   "execution_count": null,
   "id": "08558e36",
   "metadata": {},
   "outputs": [],
   "source": []
  }
 ],
 "metadata": {
  "kernelspec": {
   "display_name": "hugait-tda",
   "language": "python",
   "name": "python3"
  },
  "language_info": {
   "codemirror_mode": {
    "name": "ipython",
    "version": 3
   },
   "file_extension": ".py",
   "mimetype": "text/x-python",
   "name": "python",
   "nbconvert_exporter": "python",
   "pygments_lexer": "ipython3",
   "version": "3.11.13"
  }
 },
 "nbformat": 4,
 "nbformat_minor": 5
}
