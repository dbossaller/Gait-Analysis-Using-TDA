{
 "cells": [
  {
   "cell_type": "code",
   "execution_count": null,
   "id": "7ed0f340",
   "metadata": {},
   "outputs": [],
   "source": [
    "from gait_pipeline import make_dataset, topological_transform\n",
    "\n",
    "directory = 'data/'\n",
    "\n",
    "subject = '1'"
   ]
  },
  {
   "cell_type": "code",
   "execution_count": null,
   "id": "dea6edc3",
   "metadata": {},
   "outputs": [],
   "source": [
    "subject_dataset = make_dataset(subject, directory)\n",
    "\n",
    "topological_transform(subject_dataset)\n"
   ]
  },
  {
   "cell_type": "code",
   "execution_count": null,
   "id": "11bd6663",
   "metadata": {},
   "outputs": [],
   "source": [
    "full_dataset = {}\n",
    "full_entropies = {}\n",
    "\n",
    "for sub_num in range(1,19):\n",
    "    try:\n",
    "        sub_dataset = make_dataset(f'{sub_num}', directory)\n",
    "        full_dataset[sub_num] = sub_dataset\n",
    "    except(ValueError):\n",
    "        continue\n",
    "\n",
    "for key in list(full_dataset.keys()):\n",
    "    full_entropies[key] = topological_transform(full_dataset[key])"
   ]
  },
  {
   "cell_type": "code",
   "execution_count": null,
   "id": "542438f9",
   "metadata": {},
   "outputs": [],
   "source": []
  }
 ],
 "metadata": {
  "kernelspec": {
   "display_name": "hugait_tda",
   "language": "python",
   "name": "python3"
  },
  "language_info": {
   "codemirror_mode": {
    "name": "ipython",
    "version": 3
   },
   "file_extension": ".py",
   "mimetype": "text/x-python",
   "name": "python",
   "nbconvert_exporter": "python",
   "pygments_lexer": "ipython3",
   "version": "3.11.13"
  }
 },
 "nbformat": 4,
 "nbformat_minor": 5
}
