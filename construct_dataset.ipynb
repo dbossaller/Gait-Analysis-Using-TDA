{
 "cells": [
  {
   "cell_type": "code",
   "execution_count": null,
   "id": "fa37cded",
   "metadata": {},
   "outputs": [],
   "source": [
    "import pandas as pd\n",
    "import numpy as np\n",
    "import matplotlib.pyplot as plt\n",
    "\n",
    "from gait_pipeline import make_sub_dataset"
   ]
  },
  {
   "cell_type": "code",
   "execution_count": null,
   "id": "92032ae7",
   "metadata": {},
   "outputs": [],
   "source": [
    "subject = '3'\n",
    "directory = 'data/'\n",
    "leg = 'right'\n",
    "location = 'thigh'"
   ]
  },
  {
   "cell_type": "code",
   "execution_count": null,
   "id": "cdefc0b2",
   "metadata": {},
   "outputs": [],
   "source": [
    "sub, period = make_sub_dataset(subject, directory, leg, location, num_periods = 3)"
   ]
  },
  {
   "cell_type": "code",
   "execution_count": null,
   "id": "cbd6b4d5",
   "metadata": {},
   "outputs": [],
   "source": [
    "print(sub, period)"
   ]
  },
  {
   "cell_type": "code",
   "execution_count": null,
   "id": "dfd23524",
   "metadata": {},
   "outputs": [],
   "source": []
  }
 ],
 "metadata": {
  "kernelspec": {
   "display_name": "hugait-tda",
   "language": "python",
   "name": "python3"
  },
  "language_info": {
   "codemirror_mode": {
    "name": "ipython",
    "version": 3
   },
   "file_extension": ".py",
   "mimetype": "text/x-python",
   "name": "python",
   "nbconvert_exporter": "python",
   "pygments_lexer": "ipython3",
   "version": "3.11.7"
  }
 },
 "nbformat": 4,
 "nbformat_minor": 5
}
