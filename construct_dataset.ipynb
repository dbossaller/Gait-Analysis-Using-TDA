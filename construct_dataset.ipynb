{
 "cells": [
  {
   "cell_type": "code",
   "execution_count": null,
   "id": "fa37cded",
   "metadata": {},
   "outputs": [],
   "source": [
    "import pandas as pd\n",
    "import numpy as np\n",
    "import matplotlib.pyplot as plt\n",
    "\n",
    "from construct_dataset import make_sub_dataset"
   ]
  },
  {
   "cell_type": "code",
   "execution_count": null,
   "id": "92032ae7",
   "metadata": {},
   "outputs": [],
   "source": [
    "subject = '3'\n",
    "directory = 'data/'\n",
    "leg = 'right'\n",
    "location = 'thigh'"
   ]
  },
  {
   "cell_type": "code",
   "execution_count": null,
   "id": "cdefc0b2",
   "metadata": {},
   "outputs": [],
   "source": [
    "sub = make_sub_dataset(subject, directory, leg, location, num_periods = 3)"
   ]
  },
  {
   "cell_type": "code",
   "execution_count": null,
   "id": "cbd6b4d5",
   "metadata": {},
   "outputs": [],
   "source": [
    "from construct_dataset import construct_dataset\n",
    "\n",
    "construct_dataset(num_periods=2)"
   ]
  },
  {
   "cell_type": "code",
   "execution_count": null,
   "id": "dfd23524",
   "metadata": {},
   "outputs": [],
   "source": []
  }
 ],
 "metadata": {
  "kernelspec": {
   "display_name": "hugait-tda",
   "language": "python",
   "name": "python3"
  },
  "language_info": {
   "codemirror_mode": {
    "name": "ipython",
    "version": 3
   },
   "file_extension": ".py",
   "mimetype": "text/x-python",
   "name": "python",
   "nbconvert_exporter": "python",
   "pygments_lexer": "ipython3",
   "version": "3.11.13"
  }
 },
 "nbformat": 4,
 "nbformat_minor": 5
}
