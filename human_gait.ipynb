{
 "cells": [
  {
   "cell_type": "code",
   "execution_count": null,
   "id": "91d465c8",
   "metadata": {},
   "outputs": [],
   "source": [
    "import pandas as pd\n",
    "import numpy as np\n",
    "import matplotlib.pyplot as plt\n",
    "\n",
    "from find_walking_frames import find_walking_data"
   ]
  },
  {
   "cell_type": "code",
   "execution_count": null,
   "id": "9fb7ce1d",
   "metadata": {},
   "outputs": [],
   "source": [
    "directory = 'data/'\n",
    "\n",
    "subject_num = '5'\n",
    "\n",
    "sub_5_walks = find_walking_data(subject_num, directory)\n",
    "\n",
    "sub_5_walks.keys()"
   ]
  },
  {
   "cell_type": "code",
   "execution_count": null,
   "id": "085e92fb",
   "metadata": {},
   "outputs": [],
   "source": [
    "df = sub_5_walks['05_05'][0]"
   ]
  },
  {
   "cell_type": "code",
   "execution_count": null,
   "id": "35f6ffd3",
   "metadata": {},
   "outputs": [],
   "source": [
    "df.head()"
   ]
  },
  {
   "cell_type": "code",
   "execution_count": null,
   "id": "7e31871c",
   "metadata": {},
   "outputs": [],
   "source": [
    "df.columns\n",
    "df.index"
   ]
  },
  {
   "cell_type": "code",
   "execution_count": null,
   "id": "244976ec",
   "metadata": {},
   "outputs": [],
   "source": [
    "from datetime import datetime\n",
    "\n",
    "def conv_acceleration(num):\n",
    "    return 2*num/32768\n",
    "\n",
    "def idx_to_time(idx):\n",
    "    return idx/56.35\n",
    "\n",
    "min_idx = df.idxmin\n",
    "df_accel = pd.DataFrame(None)\n",
    "\n",
    "for column in df.columns:\n",
    "    if 'acc' in column:\n",
    "        df_accel[column] = df[column].apply(conv_acceleration)\n",
    "\n",
    "# df_accel['time'] = df.index.apply(lambda x: idx_to_time(x) - idx_to_time(min_idx))"
   ]
  },
  {
   "cell_type": "markdown",
   "id": "0ba25ab2",
   "metadata": {},
   "source": [
    "The acceleration data can be converted to gravitational accelleration by taking $2x/32768$."
   ]
  },
  {
   "cell_type": "code",
   "execution_count": null,
   "id": "78aaea70",
   "metadata": {},
   "outputs": [],
   "source": [
    "df_accel_rf = df_accel[['acc_rf_x', 'acc_rf_y', 'acc_rf_z']]"
   ]
  },
  {
   "cell_type": "code",
   "execution_count": null,
   "id": "9d0ec786",
   "metadata": {},
   "outputs": [],
   "source": [
    "fig, axes = plt.subplots(3,1, sharex = True)\n",
    "for ax,column in zip(axes, df_accel_rf.columns):\n",
    "    ax.plot(df.index, df_accel_rf[column])\n",
    "    ax.set_ylim(-2,2)"
   ]
  },
  {
   "cell_type": "code",
   "execution_count": null,
   "id": "9d7f630f",
   "metadata": {},
   "outputs": [],
   "source": []
  }
 ],
 "metadata": {
  "kernelspec": {
   "display_name": "hugait-tda",
   "language": "python",
   "name": "python3"
  },
  "language_info": {
   "codemirror_mode": {
    "name": "ipython",
    "version": 3
   },
   "file_extension": ".py",
   "mimetype": "text/x-python",
   "name": "python",
   "nbconvert_exporter": "python",
   "pygments_lexer": "ipython3",
   "version": "3.11.7"
  }
 },
 "nbformat": 4,
 "nbformat_minor": 5
}
