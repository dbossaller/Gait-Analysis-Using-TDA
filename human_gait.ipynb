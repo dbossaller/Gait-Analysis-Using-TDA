{
 "cells": [
  {
   "cell_type": "code",
   "execution_count": 1,
   "id": "91d465c8",
   "metadata": {},
   "outputs": [],
   "source": [
    "import pandas as pd\n",
    "import numpy as np\n",
    "\n"
   ]
  },
  {
   "cell_type": "code",
   "execution_count": 2,
   "id": "1d76d126",
   "metadata": {},
   "outputs": [],
   "source": [
    "df = pd.read_csv('data\\HuGaDB_v2_various_01_00.txt', sep = '\\t', header=3)"
   ]
  },
  {
   "cell_type": "code",
   "execution_count": 3,
   "id": "68733e87",
   "metadata": {},
   "outputs": [
    {
     "data": {
      "text/html": [
       "<div>\n",
       "<style scoped>\n",
       "    .dataframe tbody tr th:only-of-type {\n",
       "        vertical-align: middle;\n",
       "    }\n",
       "\n",
       "    .dataframe tbody tr th {\n",
       "        vertical-align: top;\n",
       "    }\n",
       "\n",
       "    .dataframe thead th {\n",
       "        text-align: right;\n",
       "    }\n",
       "</style>\n",
       "<table border=\"1\" class=\"dataframe\">\n",
       "  <thead>\n",
       "    <tr style=\"text-align: right;\">\n",
       "      <th></th>\n",
       "      <th>acc_rf_x</th>\n",
       "      <th>acc_rf_y</th>\n",
       "      <th>acc_rf_z</th>\n",
       "      <th>gyro_rf_x</th>\n",
       "      <th>gyro_rf_y</th>\n",
       "      <th>gyro_rf_z</th>\n",
       "      <th>acc_rs_x</th>\n",
       "      <th>acc_rs_y</th>\n",
       "      <th>acc_rs_z</th>\n",
       "      <th>gyro_rs_x</th>\n",
       "      <th>...</th>\n",
       "      <th>gyro_ls_z</th>\n",
       "      <th>acc_lt_x</th>\n",
       "      <th>acc_lt_y</th>\n",
       "      <th>acc_lt_z</th>\n",
       "      <th>gyro_lt_x</th>\n",
       "      <th>gyro_lt_y</th>\n",
       "      <th>gyro_lt_z</th>\n",
       "      <th>EMG_r</th>\n",
       "      <th>EMG_l</th>\n",
       "      <th>act</th>\n",
       "    </tr>\n",
       "  </thead>\n",
       "  <tbody>\n",
       "    <tr>\n",
       "      <th>0</th>\n",
       "      <td>-7684</td>\n",
       "      <td>-1200</td>\n",
       "      <td>13444</td>\n",
       "      <td>16</td>\n",
       "      <td>11</td>\n",
       "      <td>-22</td>\n",
       "      <td>-14464</td>\n",
       "      <td>520</td>\n",
       "      <td>-7480</td>\n",
       "      <td>-6</td>\n",
       "      <td>...</td>\n",
       "      <td>38</td>\n",
       "      <td>-6064</td>\n",
       "      <td>968</td>\n",
       "      <td>15960</td>\n",
       "      <td>37</td>\n",
       "      <td>-10</td>\n",
       "      <td>-21</td>\n",
       "      <td>120</td>\n",
       "      <td>127</td>\n",
       "      <td>5</td>\n",
       "    </tr>\n",
       "    <tr>\n",
       "      <th>1</th>\n",
       "      <td>-7712</td>\n",
       "      <td>-1140</td>\n",
       "      <td>13520</td>\n",
       "      <td>21</td>\n",
       "      <td>10</td>\n",
       "      <td>-19</td>\n",
       "      <td>-14360</td>\n",
       "      <td>400</td>\n",
       "      <td>-7776</td>\n",
       "      <td>11</td>\n",
       "      <td>...</td>\n",
       "      <td>44</td>\n",
       "      <td>-5872</td>\n",
       "      <td>1128</td>\n",
       "      <td>15904</td>\n",
       "      <td>42</td>\n",
       "      <td>-9</td>\n",
       "      <td>-25</td>\n",
       "      <td>120</td>\n",
       "      <td>127</td>\n",
       "      <td>5</td>\n",
       "    </tr>\n",
       "    <tr>\n",
       "      <th>2</th>\n",
       "      <td>-7728</td>\n",
       "      <td>-1084</td>\n",
       "      <td>13468</td>\n",
       "      <td>23</td>\n",
       "      <td>8</td>\n",
       "      <td>-20</td>\n",
       "      <td>-14376</td>\n",
       "      <td>592</td>\n",
       "      <td>-7264</td>\n",
       "      <td>25</td>\n",
       "      <td>...</td>\n",
       "      <td>48</td>\n",
       "      <td>-5720</td>\n",
       "      <td>904</td>\n",
       "      <td>16120</td>\n",
       "      <td>45</td>\n",
       "      <td>-14</td>\n",
       "      <td>-35</td>\n",
       "      <td>120</td>\n",
       "      <td>128</td>\n",
       "      <td>5</td>\n",
       "    </tr>\n",
       "    <tr>\n",
       "      <th>3</th>\n",
       "      <td>-7692</td>\n",
       "      <td>-1056</td>\n",
       "      <td>13456</td>\n",
       "      <td>20</td>\n",
       "      <td>10</td>\n",
       "      <td>-23</td>\n",
       "      <td>-14440</td>\n",
       "      <td>624</td>\n",
       "      <td>-7368</td>\n",
       "      <td>33</td>\n",
       "      <td>...</td>\n",
       "      <td>50</td>\n",
       "      <td>-5632</td>\n",
       "      <td>1024</td>\n",
       "      <td>16168</td>\n",
       "      <td>44</td>\n",
       "      <td>-18</td>\n",
       "      <td>-38</td>\n",
       "      <td>120</td>\n",
       "      <td>128</td>\n",
       "      <td>5</td>\n",
       "    </tr>\n",
       "    <tr>\n",
       "      <th>4</th>\n",
       "      <td>-7716</td>\n",
       "      <td>-1084</td>\n",
       "      <td>13512</td>\n",
       "      <td>20</td>\n",
       "      <td>8</td>\n",
       "      <td>-25</td>\n",
       "      <td>-14504</td>\n",
       "      <td>640</td>\n",
       "      <td>-7416</td>\n",
       "      <td>33</td>\n",
       "      <td>...</td>\n",
       "      <td>50</td>\n",
       "      <td>-5576</td>\n",
       "      <td>1096</td>\n",
       "      <td>16304</td>\n",
       "      <td>55</td>\n",
       "      <td>-14</td>\n",
       "      <td>-33</td>\n",
       "      <td>120</td>\n",
       "      <td>127</td>\n",
       "      <td>5</td>\n",
       "    </tr>\n",
       "  </tbody>\n",
       "</table>\n",
       "<p>5 rows × 39 columns</p>\n",
       "</div>"
      ],
      "text/plain": [
       "   acc_rf_x  acc_rf_y  acc_rf_z  gyro_rf_x  gyro_rf_y  gyro_rf_z  acc_rs_x  \\\n",
       "0     -7684     -1200     13444         16         11        -22    -14464   \n",
       "1     -7712     -1140     13520         21         10        -19    -14360   \n",
       "2     -7728     -1084     13468         23          8        -20    -14376   \n",
       "3     -7692     -1056     13456         20         10        -23    -14440   \n",
       "4     -7716     -1084     13512         20          8        -25    -14504   \n",
       "\n",
       "   acc_rs_y  acc_rs_z  gyro_rs_x  ...  gyro_ls_z  acc_lt_x  acc_lt_y  \\\n",
       "0       520     -7480         -6  ...         38     -6064       968   \n",
       "1       400     -7776         11  ...         44     -5872      1128   \n",
       "2       592     -7264         25  ...         48     -5720       904   \n",
       "3       624     -7368         33  ...         50     -5632      1024   \n",
       "4       640     -7416         33  ...         50     -5576      1096   \n",
       "\n",
       "   acc_lt_z  gyro_lt_x  gyro_lt_y  gyro_lt_z  EMG_r  EMG_l  act  \n",
       "0     15960         37        -10        -21    120    127    5  \n",
       "1     15904         42         -9        -25    120    127    5  \n",
       "2     16120         45        -14        -35    120    128    5  \n",
       "3     16168         44        -18        -38    120    128    5  \n",
       "4     16304         55        -14        -33    120    127    5  \n",
       "\n",
       "[5 rows x 39 columns]"
      ]
     },
     "execution_count": 3,
     "metadata": {},
     "output_type": "execute_result"
    }
   ],
   "source": [
    "df.head()"
   ]
  },
  {
   "cell_type": "code",
   "execution_count": 4,
   "id": "6c245fe1",
   "metadata": {},
   "outputs": [
    {
     "data": {
      "text/plain": [
       "<pandas.core.groupby.generic.DataFrameGroupBy object at 0x0000026C7F3DA610>"
      ]
     },
     "execution_count": 4,
     "metadata": {},
     "output_type": "execute_result"
    }
   ],
   "source": [
    "df.groupby('act')"
   ]
  },
  {
   "cell_type": "code",
   "execution_count": 5,
   "id": "c5f41b2b",
   "metadata": {},
   "outputs": [
    {
     "data": {
      "text/plain": [
       "array([5, 7, 8, 6])"
      ]
     },
     "execution_count": 5,
     "metadata": {},
     "output_type": "execute_result"
    }
   ],
   "source": [
    "df['act'].unique()"
   ]
  },
  {
   "cell_type": "code",
   "execution_count": 6,
   "id": "31c21890",
   "metadata": {},
   "outputs": [],
   "source": [
    "file_path = 'data\\HuGaDB_v2_various_01_00.txt'\n",
    "n = 2\n",
    "with open(file_path, 'r') as file:\n",
    "    first_two_lines = file.readlines()[0:2]"
   ]
  },
  {
   "cell_type": "code",
   "execution_count": 7,
   "id": "1b4bd7f8",
   "metadata": {},
   "outputs": [
    {
     "data": {
      "text/plain": [
       "['#Activity\\tsitting standing_up standing sitting_down sitting standing_up standing sitting_down sitting standing_up standing sitting_down sitting standing_up standing sitting_down sitting \\n',\n",
       " '#ActivityID\\t5 7 8 6 5 7 8 6 5 7 8 6 5 7 8 6 5 \\n']"
      ]
     },
     "execution_count": 7,
     "metadata": {},
     "output_type": "execute_result"
    }
   ],
   "source": [
    "first_two_lines"
   ]
  },
  {
   "cell_type": "code",
   "execution_count": 8,
   "id": "37d1dfbd",
   "metadata": {},
   "outputs": [],
   "source": [
    "line1 = first_two_lines[0].lstrip('#Activity\\t').rstrip(' \\n').split(' ')\n",
    "line2 = first_two_lines[1].lstrip('#ActivityID\\t').rstrip(' \\n').split(' ')\n",
    "\n",
    "line1 = line1[0:-2]\n",
    "line2 = line2[0:-2]"
   ]
  },
  {
   "cell_type": "code",
   "execution_count": 9,
   "id": "7ef9a8d6",
   "metadata": {},
   "outputs": [
    {
     "name": "stdout",
     "output_type": "stream",
     "text": [
      "['sitting', 'standing_up', 'standing', 'sitting_down', 'sitting', 'standing_up', 'standing', 'sitting_down', 'sitting', 'standing_up', 'standing', 'sitting_down', 'sitting', 'standing_up', 'standing']\n",
      "['5', '7', '8', '6', '5', '7', '8', '6', '5', '7', '8', '6', '5', '7', '8']\n"
     ]
    }
   ],
   "source": [
    "print(line1)\n",
    "print(line2)"
   ]
  },
  {
   "cell_type": "code",
   "execution_count": 10,
   "id": "31950451",
   "metadata": {},
   "outputs": [],
   "source": [
    "activity_dict = {\n",
    "    num : act for num, act in zip(line2, line1)\n",
    "}"
   ]
  },
  {
   "cell_type": "code",
   "execution_count": 11,
   "id": "4e2470f7",
   "metadata": {},
   "outputs": [
    {
     "data": {
      "text/plain": [
       "{'5': 'sitting', '7': 'standing_up', '8': 'standing', '6': 'sitting_down'}"
      ]
     },
     "execution_count": 11,
     "metadata": {},
     "output_type": "execute_result"
    }
   ],
   "source": [
    "activity_dict"
   ]
  },
  {
   "cell_type": "code",
   "execution_count": null,
   "id": "bd7d36d6",
   "metadata": {},
   "outputs": [],
   "source": []
  }
 ],
 "metadata": {
  "kernelspec": {
   "display_name": "hugait-tda",
   "language": "python",
   "name": "python3"
  },
  "language_info": {
   "codemirror_mode": {
    "name": "ipython",
    "version": 3
   },
   "file_extension": ".py",
   "mimetype": "text/x-python",
   "name": "python",
   "nbconvert_exporter": "python",
   "pygments_lexer": "ipython3",
   "version": "3.11.7"
  }
 },
 "nbformat": 4,
 "nbformat_minor": 5
}
