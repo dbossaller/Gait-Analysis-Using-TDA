{
 "cells": [
  {
   "cell_type": "code",
   "execution_count": 117,
   "id": "91d465c8",
   "metadata": {},
   "outputs": [],
   "source": [
    "import pandas as pd\n",
    "import numpy as np\n",
    "import matplotlib.pyplot as plt\n",
    "\n",
    "from find_walking_frames import find_walking_data\n",
    "from pre_process import pull_acceleration"
   ]
  },
  {
   "cell_type": "code",
   "execution_count": 118,
   "id": "9fb7ce1d",
   "metadata": {},
   "outputs": [
    {
     "data": {
      "text/plain": [
       "dict_keys(['05_05', '05_06', '05_07', '05_08', '05_09', '05_10', '05_11', '05_12', '05_13', '05_14', '05_19', '05_20'])"
      ]
     },
     "execution_count": 118,
     "metadata": {},
     "output_type": "execute_result"
    }
   ],
   "source": [
    "directory = 'data/'\n",
    "\n",
    "subject_num = '5'\n",
    "\n",
    "sub_5_walks = find_walking_data(subject_num, directory)\n",
    "\n",
    "sub_5_walks.keys()"
   ]
  },
  {
   "cell_type": "code",
   "execution_count": 119,
   "id": "085e92fb",
   "metadata": {},
   "outputs": [],
   "source": [
    "df = sub_5_walks['05_06'][0]"
   ]
  },
  {
   "cell_type": "code",
   "execution_count": 120,
   "id": "35f6ffd3",
   "metadata": {},
   "outputs": [
    {
     "data": {
      "text/html": [
       "<div>\n",
       "<style scoped>\n",
       "    .dataframe tbody tr th:only-of-type {\n",
       "        vertical-align: middle;\n",
       "    }\n",
       "\n",
       "    .dataframe tbody tr th {\n",
       "        vertical-align: top;\n",
       "    }\n",
       "\n",
       "    .dataframe thead th {\n",
       "        text-align: right;\n",
       "    }\n",
       "</style>\n",
       "<table border=\"1\" class=\"dataframe\">\n",
       "  <thead>\n",
       "    <tr style=\"text-align: right;\">\n",
       "      <th></th>\n",
       "      <th>acc_rf_x</th>\n",
       "      <th>acc_rf_y</th>\n",
       "      <th>acc_rf_z</th>\n",
       "      <th>gyro_rf_x</th>\n",
       "      <th>gyro_rf_y</th>\n",
       "      <th>gyro_rf_z</th>\n",
       "      <th>acc_rs_x</th>\n",
       "      <th>acc_rs_y</th>\n",
       "      <th>acc_rs_z</th>\n",
       "      <th>gyro_rs_x</th>\n",
       "      <th>...</th>\n",
       "      <th>gyro_ls_z</th>\n",
       "      <th>acc_lt_x</th>\n",
       "      <th>acc_lt_y</th>\n",
       "      <th>acc_lt_z</th>\n",
       "      <th>gyro_lt_x</th>\n",
       "      <th>gyro_lt_y</th>\n",
       "      <th>gyro_lt_z</th>\n",
       "      <th>EMG_r</th>\n",
       "      <th>EMG_l</th>\n",
       "      <th>act</th>\n",
       "    </tr>\n",
       "  </thead>\n",
       "  <tbody>\n",
       "    <tr>\n",
       "      <th>171</th>\n",
       "      <td>-11040</td>\n",
       "      <td>-4052</td>\n",
       "      <td>11712</td>\n",
       "      <td>693</td>\n",
       "      <td>431</td>\n",
       "      <td>637</td>\n",
       "      <td>-16072</td>\n",
       "      <td>2120</td>\n",
       "      <td>-1632</td>\n",
       "      <td>-4050</td>\n",
       "      <td>...</td>\n",
       "      <td>9</td>\n",
       "      <td>-17024</td>\n",
       "      <td>1704</td>\n",
       "      <td>-1056</td>\n",
       "      <td>26</td>\n",
       "      <td>-110</td>\n",
       "      <td>120</td>\n",
       "      <td>128</td>\n",
       "      <td>129</td>\n",
       "      <td>1</td>\n",
       "    </tr>\n",
       "    <tr>\n",
       "      <th>172</th>\n",
       "      <td>-11172</td>\n",
       "      <td>-3996</td>\n",
       "      <td>11732</td>\n",
       "      <td>666</td>\n",
       "      <td>430</td>\n",
       "      <td>568</td>\n",
       "      <td>-15964</td>\n",
       "      <td>2144</td>\n",
       "      <td>-1800</td>\n",
       "      <td>-4602</td>\n",
       "      <td>...</td>\n",
       "      <td>3</td>\n",
       "      <td>-15824</td>\n",
       "      <td>1248</td>\n",
       "      <td>-24</td>\n",
       "      <td>33</td>\n",
       "      <td>-197</td>\n",
       "      <td>87</td>\n",
       "      <td>129</td>\n",
       "      <td>124</td>\n",
       "      <td>1</td>\n",
       "    </tr>\n",
       "    <tr>\n",
       "      <th>173</th>\n",
       "      <td>-11116</td>\n",
       "      <td>-3556</td>\n",
       "      <td>11824</td>\n",
       "      <td>595</td>\n",
       "      <td>283</td>\n",
       "      <td>453</td>\n",
       "      <td>-15536</td>\n",
       "      <td>2472</td>\n",
       "      <td>-1884</td>\n",
       "      <td>-3268</td>\n",
       "      <td>...</td>\n",
       "      <td>25</td>\n",
       "      <td>-16264</td>\n",
       "      <td>1392</td>\n",
       "      <td>-400</td>\n",
       "      <td>-98</td>\n",
       "      <td>-138</td>\n",
       "      <td>142</td>\n",
       "      <td>129</td>\n",
       "      <td>146</td>\n",
       "      <td>1</td>\n",
       "    </tr>\n",
       "    <tr>\n",
       "      <th>174</th>\n",
       "      <td>-11140</td>\n",
       "      <td>-3552</td>\n",
       "      <td>11780</td>\n",
       "      <td>547</td>\n",
       "      <td>299</td>\n",
       "      <td>144</td>\n",
       "      <td>-15908</td>\n",
       "      <td>1668</td>\n",
       "      <td>-2236</td>\n",
       "      <td>-1059</td>\n",
       "      <td>...</td>\n",
       "      <td>35</td>\n",
       "      <td>-15856</td>\n",
       "      <td>1264</td>\n",
       "      <td>-664</td>\n",
       "      <td>-228</td>\n",
       "      <td>-46</td>\n",
       "      <td>86</td>\n",
       "      <td>129</td>\n",
       "      <td>139</td>\n",
       "      <td>1</td>\n",
       "    </tr>\n",
       "    <tr>\n",
       "      <th>175</th>\n",
       "      <td>-11256</td>\n",
       "      <td>-3816</td>\n",
       "      <td>11652</td>\n",
       "      <td>393</td>\n",
       "      <td>87</td>\n",
       "      <td>54</td>\n",
       "      <td>-15640</td>\n",
       "      <td>1920</td>\n",
       "      <td>-2340</td>\n",
       "      <td>976</td>\n",
       "      <td>...</td>\n",
       "      <td>45</td>\n",
       "      <td>-15888</td>\n",
       "      <td>768</td>\n",
       "      <td>-952</td>\n",
       "      <td>-240</td>\n",
       "      <td>-20</td>\n",
       "      <td>-22</td>\n",
       "      <td>129</td>\n",
       "      <td>126</td>\n",
       "      <td>1</td>\n",
       "    </tr>\n",
       "  </tbody>\n",
       "</table>\n",
       "<p>5 rows × 39 columns</p>\n",
       "</div>"
      ],
      "text/plain": [
       "     acc_rf_x  acc_rf_y  acc_rf_z  gyro_rf_x  gyro_rf_y  gyro_rf_z  acc_rs_x  \\\n",
       "171    -11040     -4052     11712        693        431        637    -16072   \n",
       "172    -11172     -3996     11732        666        430        568    -15964   \n",
       "173    -11116     -3556     11824        595        283        453    -15536   \n",
       "174    -11140     -3552     11780        547        299        144    -15908   \n",
       "175    -11256     -3816     11652        393         87         54    -15640   \n",
       "\n",
       "     acc_rs_y  acc_rs_z  gyro_rs_x  ...  gyro_ls_z  acc_lt_x  acc_lt_y  \\\n",
       "171      2120     -1632      -4050  ...          9    -17024      1704   \n",
       "172      2144     -1800      -4602  ...          3    -15824      1248   \n",
       "173      2472     -1884      -3268  ...         25    -16264      1392   \n",
       "174      1668     -2236      -1059  ...         35    -15856      1264   \n",
       "175      1920     -2340        976  ...         45    -15888       768   \n",
       "\n",
       "     acc_lt_z  gyro_lt_x  gyro_lt_y  gyro_lt_z  EMG_r  EMG_l  act  \n",
       "171     -1056         26       -110        120    128    129    1  \n",
       "172       -24         33       -197         87    129    124    1  \n",
       "173      -400        -98       -138        142    129    146    1  \n",
       "174      -664       -228        -46         86    129    139    1  \n",
       "175      -952       -240        -20        -22    129    126    1  \n",
       "\n",
       "[5 rows x 39 columns]"
      ]
     },
     "execution_count": 120,
     "metadata": {},
     "output_type": "execute_result"
    }
   ],
   "source": [
    "df.head()"
   ]
  },
  {
   "cell_type": "code",
   "execution_count": 121,
   "id": "7e31871c",
   "metadata": {},
   "outputs": [
    {
     "data": {
      "text/plain": [
       "Index(['acc_rf_x', 'acc_rf_y', 'acc_rf_z', 'gyro_rf_x', 'gyro_rf_y',\n",
       "       'gyro_rf_z', 'acc_rs_x', 'acc_rs_y', 'acc_rs_z', 'gyro_rs_x',\n",
       "       'gyro_rs_y', 'gyro_rs_z', 'acc_rt_x', 'acc_rt_y', 'acc_rt_z',\n",
       "       'gyro_rt_x', 'gyro_rt_y', 'gyro_rt_z', 'acc_lf_x', 'acc_lf_y',\n",
       "       'acc_lf_z', 'gyro_lf_x', 'gyro_lf_y', 'gyro_lf_z', 'acc_ls_x',\n",
       "       'acc_ls_y', 'acc_ls_z', 'gyro_ls_x', 'gyro_ls_y', 'gyro_ls_z',\n",
       "       'acc_lt_x', 'acc_lt_y', 'acc_lt_z', 'gyro_lt_x', 'gyro_lt_y',\n",
       "       'gyro_lt_z', 'EMG_r', 'EMG_l', 'act'],\n",
       "      dtype='object')"
      ]
     },
     "execution_count": 121,
     "metadata": {},
     "output_type": "execute_result"
    }
   ],
   "source": [
    "df.columns"
   ]
  },
  {
   "cell_type": "code",
   "execution_count": 122,
   "id": "244976ec",
   "metadata": {},
   "outputs": [
    {
     "data": {
      "text/html": [
       "<div>\n",
       "<style scoped>\n",
       "    .dataframe tbody tr th:only-of-type {\n",
       "        vertical-align: middle;\n",
       "    }\n",
       "\n",
       "    .dataframe tbody tr th {\n",
       "        vertical-align: top;\n",
       "    }\n",
       "\n",
       "    .dataframe thead th {\n",
       "        text-align: right;\n",
       "    }\n",
       "</style>\n",
       "<table border=\"1\" class=\"dataframe\">\n",
       "  <thead>\n",
       "    <tr style=\"text-align: right;\">\n",
       "      <th></th>\n",
       "      <th>acc_rf_x</th>\n",
       "      <th>acc_rf_y</th>\n",
       "      <th>acc_rf_z</th>\n",
       "      <th>acc_rs_x</th>\n",
       "      <th>acc_rs_y</th>\n",
       "      <th>acc_rs_z</th>\n",
       "      <th>acc_rt_x</th>\n",
       "      <th>acc_rt_y</th>\n",
       "      <th>acc_rt_z</th>\n",
       "      <th>acc_lf_x</th>\n",
       "      <th>acc_lf_y</th>\n",
       "      <th>acc_lf_z</th>\n",
       "      <th>acc_ls_x</th>\n",
       "      <th>acc_ls_y</th>\n",
       "      <th>acc_ls_z</th>\n",
       "      <th>acc_lt_x</th>\n",
       "      <th>acc_lt_y</th>\n",
       "      <th>acc_lt_z</th>\n",
       "    </tr>\n",
       "  </thead>\n",
       "  <tbody>\n",
       "    <tr>\n",
       "      <th>171</th>\n",
       "      <td>-0.673828</td>\n",
       "      <td>-0.247314</td>\n",
       "      <td>0.714844</td>\n",
       "      <td>-0.980957</td>\n",
       "      <td>0.129395</td>\n",
       "      <td>-0.099609</td>\n",
       "      <td>-0.992188</td>\n",
       "      <td>0.080566</td>\n",
       "      <td>-0.093750</td>\n",
       "      <td>-0.617920</td>\n",
       "      <td>0.444824</td>\n",
       "      <td>0.639160</td>\n",
       "      <td>-0.908691</td>\n",
       "      <td>0.303223</td>\n",
       "      <td>-0.321289</td>\n",
       "      <td>-1.039062</td>\n",
       "      <td>0.104004</td>\n",
       "      <td>-0.064453</td>\n",
       "    </tr>\n",
       "    <tr>\n",
       "      <th>172</th>\n",
       "      <td>-0.681885</td>\n",
       "      <td>-0.243896</td>\n",
       "      <td>0.716064</td>\n",
       "      <td>-0.974365</td>\n",
       "      <td>0.130859</td>\n",
       "      <td>-0.109863</td>\n",
       "      <td>-0.974121</td>\n",
       "      <td>0.081543</td>\n",
       "      <td>-0.119629</td>\n",
       "      <td>-0.617432</td>\n",
       "      <td>0.447754</td>\n",
       "      <td>0.630371</td>\n",
       "      <td>-0.931152</td>\n",
       "      <td>0.288574</td>\n",
       "      <td>-0.363281</td>\n",
       "      <td>-0.965820</td>\n",
       "      <td>0.076172</td>\n",
       "      <td>-0.001465</td>\n",
       "    </tr>\n",
       "    <tr>\n",
       "      <th>173</th>\n",
       "      <td>-0.678467</td>\n",
       "      <td>-0.217041</td>\n",
       "      <td>0.721680</td>\n",
       "      <td>-0.948242</td>\n",
       "      <td>0.150879</td>\n",
       "      <td>-0.114990</td>\n",
       "      <td>-0.957520</td>\n",
       "      <td>0.056641</td>\n",
       "      <td>-0.129883</td>\n",
       "      <td>-0.628418</td>\n",
       "      <td>0.453369</td>\n",
       "      <td>0.625732</td>\n",
       "      <td>-0.899902</td>\n",
       "      <td>0.249023</td>\n",
       "      <td>-0.364258</td>\n",
       "      <td>-0.992676</td>\n",
       "      <td>0.084961</td>\n",
       "      <td>-0.024414</td>\n",
       "    </tr>\n",
       "    <tr>\n",
       "      <th>174</th>\n",
       "      <td>-0.679932</td>\n",
       "      <td>-0.216797</td>\n",
       "      <td>0.718994</td>\n",
       "      <td>-0.970947</td>\n",
       "      <td>0.101807</td>\n",
       "      <td>-0.136475</td>\n",
       "      <td>-0.973145</td>\n",
       "      <td>0.033691</td>\n",
       "      <td>-0.159668</td>\n",
       "      <td>-0.627686</td>\n",
       "      <td>0.426025</td>\n",
       "      <td>0.630615</td>\n",
       "      <td>-0.883789</td>\n",
       "      <td>0.257812</td>\n",
       "      <td>-0.372070</td>\n",
       "      <td>-0.967773</td>\n",
       "      <td>0.077148</td>\n",
       "      <td>-0.040527</td>\n",
       "    </tr>\n",
       "    <tr>\n",
       "      <th>175</th>\n",
       "      <td>-0.687012</td>\n",
       "      <td>-0.232910</td>\n",
       "      <td>0.711182</td>\n",
       "      <td>-0.954590</td>\n",
       "      <td>0.117188</td>\n",
       "      <td>-0.142822</td>\n",
       "      <td>-0.959961</td>\n",
       "      <td>0.031738</td>\n",
       "      <td>-0.141602</td>\n",
       "      <td>-0.625732</td>\n",
       "      <td>0.429688</td>\n",
       "      <td>0.629639</td>\n",
       "      <td>-0.908203</td>\n",
       "      <td>0.277832</td>\n",
       "      <td>-0.420410</td>\n",
       "      <td>-0.969727</td>\n",
       "      <td>0.046875</td>\n",
       "      <td>-0.058105</td>\n",
       "    </tr>\n",
       "  </tbody>\n",
       "</table>\n",
       "</div>"
      ],
      "text/plain": [
       "     acc_rf_x  acc_rf_y  acc_rf_z  acc_rs_x  acc_rs_y  acc_rs_z  acc_rt_x  \\\n",
       "171 -0.673828 -0.247314  0.714844 -0.980957  0.129395 -0.099609 -0.992188   \n",
       "172 -0.681885 -0.243896  0.716064 -0.974365  0.130859 -0.109863 -0.974121   \n",
       "173 -0.678467 -0.217041  0.721680 -0.948242  0.150879 -0.114990 -0.957520   \n",
       "174 -0.679932 -0.216797  0.718994 -0.970947  0.101807 -0.136475 -0.973145   \n",
       "175 -0.687012 -0.232910  0.711182 -0.954590  0.117188 -0.142822 -0.959961   \n",
       "\n",
       "     acc_rt_y  acc_rt_z  acc_lf_x  acc_lf_y  acc_lf_z  acc_ls_x  acc_ls_y  \\\n",
       "171  0.080566 -0.093750 -0.617920  0.444824  0.639160 -0.908691  0.303223   \n",
       "172  0.081543 -0.119629 -0.617432  0.447754  0.630371 -0.931152  0.288574   \n",
       "173  0.056641 -0.129883 -0.628418  0.453369  0.625732 -0.899902  0.249023   \n",
       "174  0.033691 -0.159668 -0.627686  0.426025  0.630615 -0.883789  0.257812   \n",
       "175  0.031738 -0.141602 -0.625732  0.429688  0.629639 -0.908203  0.277832   \n",
       "\n",
       "     acc_ls_z  acc_lt_x  acc_lt_y  acc_lt_z  \n",
       "171 -0.321289 -1.039062  0.104004 -0.064453  \n",
       "172 -0.363281 -0.965820  0.076172 -0.001465  \n",
       "173 -0.364258 -0.992676  0.084961 -0.024414  \n",
       "174 -0.372070 -0.967773  0.077148 -0.040527  \n",
       "175 -0.420410 -0.969727  0.046875 -0.058105  "
      ]
     },
     "execution_count": 122,
     "metadata": {},
     "output_type": "execute_result"
    }
   ],
   "source": [
    "from datetime import timedelta\n",
    "\n",
    "def conv_acceleration(num):\n",
    "    return 2*num/32768\n",
    "\n",
    "\n",
    "df_accel = pd.DataFrame(None)\n",
    "\n",
    "for column in df.columns:\n",
    "    if 'acc' in column:\n",
    "        df_accel[column] = df[column].apply(conv_acceleration)\n",
    "\n",
    "# delta = timedelta(seconds = 1/56.35)\n",
    "\n",
    "\n",
    "# df_accel['time'] = (df.index - df.index[0]) * delta\n",
    "\n",
    "# df_accel.set_index('time', inplace = True)\n",
    "\n",
    "df_accel.head()"
   ]
  },
  {
   "cell_type": "markdown",
   "id": "0ba25ab2",
   "metadata": {},
   "source": [
    "The acceleration data can be converted to gravitational accelleration by taking $2x/32768$."
   ]
  },
  {
   "cell_type": "code",
   "execution_count": 123,
   "id": "78aaea70",
   "metadata": {},
   "outputs": [],
   "source": [
    "df_accel_rs = df_accel[['acc_rs_x', 'acc_rs_y', 'acc_rs_z']]"
   ]
  },
  {
   "cell_type": "code",
   "execution_count": 124,
   "id": "9d0ec786",
   "metadata": {},
   "outputs": [
    {
     "data": {
      "image/png": "[encoded data removed]",
      "text/plain": [
       "<Figure size 640x480 with 3 Axes>"
      ]
     },
     "metadata": {},
     "output_type": "display_data"
    }
   ],
   "source": [
    "fig, axes = plt.subplots(3,1, sharex = True)\n",
    "for ax,column in zip(axes, df_accel_rs.columns):\n",
    "    ax.plot(df_accel_rs.index, df_accel_rs[column])\n",
    "    ax.set_ylim(-2,2)"
   ]
  },
  {
   "cell_type": "code",
   "execution_count": 125,
   "id": "9d7f630f",
   "metadata": {},
   "outputs": [
    {
     "data": {
      "text/plain": [
       "(-2.0, 2.0)"
      ]
     },
     "execution_count": 125,
     "metadata": {},
     "output_type": "execute_result"
    },
    {
     "data": {
      "image/png": "[encoded data removed]",
      "text/plain": [
       "<Figure size 640x480 with 1 Axes>"
      ]
     },
     "metadata": {},
     "output_type": "display_data"
    }
   ],
   "source": [
    "fig, ax = plt.subplots()\n",
    "ax.plot(df_accel_rs.index, df_accel_rs['acc_rs_z'])\n",
    "ax.set_ylim(-2,2)"
   ]
  },
  {
   "cell_type": "code",
   "execution_count": null,
   "id": "155026b6",
   "metadata": {},
   "outputs": [],
   "source": []
  },
  {
   "cell_type": "code",
   "execution_count": 200,
   "id": "71db5927",
   "metadata": {},
   "outputs": [
    {
     "name": "stdout",
     "output_type": "stream",
     "text": [
      "[-9.19321772e-02 -8.35397897e-02 -5.33966276e-02 -9.39021562e-02\n",
      " -1.46672712e-01 -1.76104795e-01 -1.83015186e-01 -1.49746508e-01\n",
      " -9.60802469e-02 -5.70664423e-02 -6.69753733e-02 -8.36614481e-02\n",
      " -1.34808956e-01 -1.70677870e-01 -1.08927495e-01  1.72435894e-03\n",
      "  4.87469968e-02  6.09350065e-02  3.76061947e-02  3.42412452e-02\n",
      "  5.04768565e-02  8.03487788e-02  1.03349310e-01  1.31067629e-01\n",
      "  1.43972573e-01  1.30370009e-01  1.17186311e-01  8.58544622e-02\n",
      "  5.18627173e-02  6.48638336e-02  5.62771454e-02  2.59325709e-02\n",
      "  1.60338520e-01  2.40003160e-01  1.50287614e-01  1.55253967e-01\n",
      "  2.75936699e-01  2.37125121e-01  5.97443157e-02  1.42397438e-02\n",
      "  6.75939287e-04 -1.93977742e-02 -2.89940685e-03  1.23998492e-02\n",
      "  1.48636560e-02  8.48448295e-03  5.49658993e-04 -2.61004239e-04\n",
      "  2.28011366e-03  1.19649876e-02] Figure(640x480)\n"
     ]
    },
    {
     "data": {
      "text/plain": [
       "61"
      ]
     },
     "execution_count": 200,
     "metadata": {},
     "output_type": "execute_result"
    },
    {
     "data": {
      "image/png": "[encoded data removed]",
      "text/plain": [
       "<Figure size 640x480 with 1 Axes>"
      ]
     },
     "metadata": {},
     "output_type": "display_data"
    }
   ],
   "source": [
    "from statsmodels.tsa.stattools import acf\n",
    "from statsmodels.graphics.tsaplots import plot_acf\n",
    "df = df_accel_rs['acc_rs_z']\n",
    "\n",
    "autocorr = acf(df, nlags = 150)\n",
    "print(\n",
    "    autocorr[25:75],\n",
    "    plot_acf(df, lags = 150, alpha = 1)\n",
    ")\n",
    "\n",
    "autocorr[25:70].argmax()\n",
    "# The list reindexes so the argmax for this interval is really 25 + argmax\n",
    "36 + 25"
   ]
  },
  {
   "cell_type": "code",
   "execution_count": 168,
   "id": "307fac1d",
   "metadata": {},
   "outputs": [
    {
     "data": {
      "text/plain": [
       "187"
      ]
     },
     "execution_count": 168,
     "metadata": {},
     "output_type": "execute_result"
    }
   ],
   "source": [
    "np.argmax(autocorr(df))"
   ]
  },
  {
   "cell_type": "code",
   "execution_count": null,
   "id": "4f798295",
   "metadata": {},
   "outputs": [
    {
     "name": "stdout",
     "output_type": "stream",
     "text": [
      "Optimal embedding time delay based on mutual information: 2\n",
      "Optimal embedding dimension based on false nearest neighbors: 4\n"
     ]
    }
   ],
   "source": [
    "from gtda.time_series import takens_embedding_optimal_parameters\n",
    "\n",
    "max_embed_dim = 10\n",
    "max_delay = 2\n",
    "stride = 1\n",
    "\n",
    "optimal_time_delay, optimal_embedding_dimension = takens_embedding_optimal_parameters(\n",
    "    series, max_delay, max_embed_dim, stride=stride\n",
    "    )\n",
    "\n",
    "print(f\"Optimal embedding time delay based on mutual information: {optimal_time_delay}\")\n",
    "print(f\"Optimal embedding dimension based on false nearest neighbors: {optimal_embedding_dimension}\")\n"
   ]
  },
  {
   "cell_type": "code",
   "execution_count": null,
   "id": "d42c28b8",
   "metadata": {},
   "outputs": [],
   "source": [
    "from gtda.time_series import SingleTakensEmbedding\n",
    "\n",
    "TE = SingleTakensEmbedding(time_delay=optimal_time_delay, dimension=optimal_embedding_dimension, stride=stride)\n",
    "series_embedded = TE.fit_transform((series.reshape(-1,1)))"
   ]
  },
  {
   "cell_type": "code",
   "execution_count": null,
   "id": "9872a3d4",
   "metadata": {},
   "outputs": [
    {
     "data": {
      "application/vnd.plotly.v1+json": {
       "config": {
        "plotlyServerURL": "https://plot.ly"
       },
       "data": [
        {
         "marker": {
          "color": [
           0,
           1,
           2,
           3,
           4,
           5,
           6,
           7,
           8,
           9,
           10,
           11,
           12,
           13,
           14,
           15,
           16,
           17,
           18,
           19,
           20,
           21,
           22,
           23,
           24,
           25,
           26,
           27,
           28,
           29,
           30,
           31
          ],
          "colorscale": [
           [
            0,
            "#440154"
           ],
           [
            0.1111111111111111,
            "#482878"
           ],
           [
            0.2222222222222222,
            "#3e4989"
           ],
           [
            0.3333333333333333,
            "#31688e"
           ],
           [
            0.4444444444444444,
            "#26828e"
           ],
           [
            0.5555555555555556,
            "#1f9e89"
           ],
           [
            0.6666666666666666,
            "#35b779"
           ],
           [
            0.7777777777777778,
            "#6ece58"
           ],
           [
            0.8888888888888888,
            "#b5de2b"
           ],
           [
            1,
            "#fde725"
           ]
          ],
          "opacity": 0.8,
          "size": 4
         },
         "mode": "markers",
         "type": "scatter3d",
         "x": {
          "bdata": "AAAAAACAub8AAAAAAFDBvwAAAAAA0L+/AAAAAAAs3z8AAAAAAFjAvwAAAAAA0M0/AAAAAAD4x78AAAAAAGjbvwAAAAAAXfG/AAAAAAD02r8AAAAAAOzWvwAAAAAA6M2/AAAAAAA40r8AAAAAAECrvwAAAAAAKMC/AAAAAACAnb8AAAAAAOLwvwAAAAAA8OC/AAAAAACM378AAAAAANrqvwAAAAAAyOC/AAAAAAAM8b8AAAAAAAjhvwAAAAAAQMq/AAAAAABM0b8AAAAAAICXPwAAAAAAMLS/AAAAAACAub8AAAAAABLjvwAAAAAARuK/AAAAAABk5L8AAAAAANjvvw==",
          "dtype": "f8"
         },
         "y": {
          "bdata": "AAAAAADQv78AAAAAACzfPwAAAAAAWMC/AAAAAADQzT8AAAAAAPjHvwAAAAAAaNu/AAAAAABd8b8AAAAAAPTavwAAAAAA7Na/AAAAAADozb8AAAAAADjSvwAAAAAAQKu/AAAAAAAowL8AAAAAAICdvwAAAAAA4vC/AAAAAADw4L8AAAAAAIzfvwAAAAAA2uq/AAAAAADI4L8AAAAAAAzxvwAAAAAACOG/AAAAAABAyr8AAAAAAEzRvwAAAAAAgJc/AAAAAAAwtL8AAAAAAIC5vwAAAAAAEuO/AAAAAABG4r8AAAAAAGTkvwAAAAAA2O+/AAAAAAAz8r8AAAAAAILnvw==",
          "dtype": "f8"
         },
         "z": {
          "bdata": "AAAAAABYwL8AAAAAANDNPwAAAAAA+Me/AAAAAABo278AAAAAAF3xvwAAAAAA9Nq/AAAAAADs1r8AAAAAAOjNvwAAAAAAONK/AAAAAABAq78AAAAAACjAvwAAAAAAgJ2/AAAAAADi8L8AAAAAAPDgvwAAAAAAjN+/AAAAAADa6r8AAAAAAMjgvwAAAAAADPG/AAAAAAAI4b8AAAAAAEDKvwAAAAAATNG/AAAAAACAlz8AAAAAADC0vwAAAAAAgLm/AAAAAAAS478AAAAAAEbivwAAAAAAZOS/AAAAAADY778AAAAAADPyvwAAAAAAgue/AAAAAACA0r8AAAAAAICwPw==",
          "dtype": "f8"
         }
        }
       ],
       "layout": {
        "scene": {
         "xaxis": {
          "exponentformat": "e",
          "showexponent": "all",
          "title": {
           "text": "0th"
          },
          "type": "linear"
         },
         "yaxis": {
          "exponentformat": "e",
          "showexponent": "all",
          "title": {
           "text": "1st"
          },
          "type": "linear"
         },
         "zaxis": {
          "exponentformat": "e",
          "showexponent": "all",
          "title": {
           "text": "2nd"
          },
          "type": "linear"
         }
        },
        "template": {
         "data": {
          "bar": [
           {
            "error_x": {
             "color": "#2a3f5f"
            },
            "error_y": {
             "color": "#2a3f5f"
            },
            "marker": {
             "line": {
              "color": "#E5ECF6",
              "width": 0.5
             },
             "pattern": {
              "fillmode": "overlay",
              "size": 10,
              "solidity": 0.2
             }
            },
            "type": "bar"
           }
          ],
          "barpolar": [
           {
            "marker": {
             "line": {
              "color": "#E5ECF6",
              "width": 0.5
             },
             "pattern": {
              "fillmode": "overlay",
              "size": 10,
              "solidity": 0.2
             }
            },
            "type": "barpolar"
           }
          ],
          "carpet": [
           {
            "aaxis": {
             "endlinecolor": "#2a3f5f",
             "gridcolor": "white",
             "linecolor": "white",
             "minorgridcolor": "white",
             "startlinecolor": "#2a3f5f"
            },
            "baxis": {
             "endlinecolor": "#2a3f5f",
             "gridcolor": "white",
             "linecolor": "white",
             "minorgridcolor": "white",
             "startlinecolor": "#2a3f5f"
            },
            "type": "carpet"
           }
          ],
          "choropleth": [
           {
            "colorbar": {
             "outlinewidth": 0,
             "ticks": ""
            },
            "type": "choropleth"
           }
          ],
          "contour": [
           {
            "colorbar": {
             "outlinewidth": 0,
             "ticks": ""
            },
            "colorscale": [
             [
              0,
              "#0d0887"
             ],
             [
              0.1111111111111111,
              "#46039f"
             ],
             [
              0.2222222222222222,
              "#7201a8"
             ],
             [
              0.3333333333333333,
              "#9c179e"
             ],
             [
              0.4444444444444444,
              "#bd3786"
             ],
             [
              0.5555555555555556,
              "#d8576b"
             ],
             [
              0.6666666666666666,
              "#ed7953"
             ],
             [
              0.7777777777777778,
              "#fb9f3a"
             ],
             [
              0.8888888888888888,
              "#fdca26"
             ],
             [
              1,
              "#f0f921"
             ]
            ],
            "type": "contour"
           }
          ],
          "contourcarpet": [
           {
            "colorbar": {
             "outlinewidth": 0,
             "ticks": ""
            },
            "type": "contourcarpet"
           }
          ],
          "heatmap": [
           {
            "colorbar": {
             "outlinewidth": 0,
             "ticks": ""
            },
            "colorscale": [
             [
              0,
              "#0d0887"
             ],
             [
              0.1111111111111111,
              "#46039f"
             ],
             [
              0.2222222222222222,
              "#7201a8"
             ],
             [
              0.3333333333333333,
              "#9c179e"
             ],
             [
              0.4444444444444444,
              "#bd3786"
             ],
             [
              0.5555555555555556,
              "#d8576b"
             ],
             [
              0.6666666666666666,
              "#ed7953"
             ],
             [
              0.7777777777777778,
              "#fb9f3a"
             ],
             [
              0.8888888888888888,
              "#fdca26"
             ],
             [
              1,
              "#f0f921"
             ]
            ],
            "type": "heatmap"
           }
          ],
          "histogram": [
           {
            "marker": {
             "pattern": {
              "fillmode": "overlay",
              "size": 10,
              "solidity": 0.2
             }
            },
            "type": "histogram"
           }
          ],
          "histogram2d": [
           {
            "colorbar": {
             "outlinewidth": 0,
             "ticks": ""
            },
            "colorscale": [
             [
              0,
              "#0d0887"
             ],
             [
              0.1111111111111111,
              "#46039f"
             ],
             [
              0.2222222222222222,
              "#7201a8"
             ],
             [
              0.3333333333333333,
              "#9c179e"
             ],
             [
              0.4444444444444444,
              "#bd3786"
             ],
             [
              0.5555555555555556,
              "#d8576b"
             ],
             [
              0.6666666666666666,
              "#ed7953"
             ],
             [
              0.7777777777777778,
              "#fb9f3a"
             ],
             [
              0.8888888888888888,
              "#fdca26"
             ],
             [
              1,
              "#f0f921"
             ]
            ],
            "type": "histogram2d"
           }
          ],
          "histogram2dcontour": [
           {
            "colorbar": {
             "outlinewidth": 0,
             "ticks": ""
            },
            "colorscale": [
             [
              0,
              "#0d0887"
             ],
             [
              0.1111111111111111,
              "#46039f"
             ],
             [
              0.2222222222222222,
              "#7201a8"
             ],
             [
              0.3333333333333333,
              "#9c179e"
             ],
             [
              0.4444444444444444,
              "#bd3786"
             ],
             [
              0.5555555555555556,
              "#d8576b"
             ],
             [
              0.6666666666666666,
              "#ed7953"
             ],
             [
              0.7777777777777778,
              "#fb9f3a"
             ],
             [
              0.8888888888888888,
              "#fdca26"
             ],
             [
              1,
              "#f0f921"
             ]
            ],
            "type": "histogram2dcontour"
           }
          ],
          "mesh3d": [
           {
            "colorbar": {
             "outlinewidth": 0,
             "ticks": ""
            },
            "type": "mesh3d"
           }
          ],
          "parcoords": [
           {
            "line": {
             "colorbar": {
              "outlinewidth": 0,
              "ticks": ""
             }
            },
            "type": "parcoords"
           }
          ],
          "pie": [
           {
            "automargin": true,
            "type": "pie"
           }
          ],
          "scatter": [
           {
            "fillpattern": {
             "fillmode": "overlay",
             "size": 10,
             "solidity": 0.2
            },
            "type": "scatter"
           }
          ],
          "scatter3d": [
           {
            "line": {
             "colorbar": {
              "outlinewidth": 0,
              "ticks": ""
             }
            },
            "marker": {
             "colorbar": {
              "outlinewidth": 0,
              "ticks": ""
             }
            },
            "type": "scatter3d"
           }
          ],
          "scattercarpet": [
           {
            "marker": {
             "colorbar": {
              "outlinewidth": 0,
              "ticks": ""
             }
            },
            "type": "scattercarpet"
           }
          ],
          "scattergeo": [
           {
            "marker": {
             "colorbar": {
              "outlinewidth": 0,
              "ticks": ""
             }
            },
            "type": "scattergeo"
           }
          ],
          "scattergl": [
           {
            "marker": {
             "colorbar": {
              "outlinewidth": 0,
              "ticks": ""
             }
            },
            "type": "scattergl"
           }
          ],
          "scattermap": [
           {
            "marker": {
             "colorbar": {
              "outlinewidth": 0,
              "ticks": ""
             }
            },
            "type": "scattermap"
           }
          ],
          "scattermapbox": [
           {
            "marker": {
             "colorbar": {
              "outlinewidth": 0,
              "ticks": ""
             }
            },
            "type": "scattermapbox"
           }
          ],
          "scatterpolar": [
           {
            "marker": {
             "colorbar": {
              "outlinewidth": 0,
              "ticks": ""
             }
            },
            "type": "scatterpolar"
           }
          ],
          "scatterpolargl": [
           {
            "marker": {
             "colorbar": {
              "outlinewidth": 0,
              "ticks": ""
             }
            },
            "type": "scatterpolargl"
           }
          ],
          "scatterternary": [
           {
            "marker": {
             "colorbar": {
              "outlinewidth": 0,
              "ticks": ""
             }
            },
            "type": "scatterternary"
           }
          ],
          "surface": [
           {
            "colorbar": {
             "outlinewidth": 0,
             "ticks": ""
            },
            "colorscale": [
             [
              0,
              "#0d0887"
             ],
             [
              0.1111111111111111,
              "#46039f"
             ],
             [
              0.2222222222222222,
              "#7201a8"
             ],
             [
              0.3333333333333333,
              "#9c179e"
             ],
             [
              0.4444444444444444,
              "#bd3786"
             ],
             [
              0.5555555555555556,
              "#d8576b"
             ],
             [
              0.6666666666666666,
              "#ed7953"
             ],
             [
              0.7777777777777778,
              "#fb9f3a"
             ],
             [
              0.8888888888888888,
              "#fdca26"
             ],
             [
              1,
              "#f0f921"
             ]
            ],
            "type": "surface"
           }
          ],
          "table": [
           {
            "cells": {
             "fill": {
              "color": "#EBF0F8"
             },
             "line": {
              "color": "white"
             }
            },
            "header": {
             "fill": {
              "color": "#C8D4E3"
             },
             "line": {
              "color": "white"
             }
            },
            "type": "table"
           }
          ]
         },
         "layout": {
          "annotationdefaults": {
           "arrowcolor": "#2a3f5f",
           "arrowhead": 0,
           "arrowwidth": 1
          },
          "autotypenumbers": "strict",
          "coloraxis": {
           "colorbar": {
            "outlinewidth": 0,
            "ticks": ""
           }
          },
          "colorscale": {
           "diverging": [
            [
             0,
             "#8e0152"
            ],
            [
             0.1,
             "#c51b7d"
            ],
            [
             0.2,
             "#de77ae"
            ],
            [
             0.3,
             "#f1b6da"
            ],
            [
             0.4,
             "#fde0ef"
            ],
            [
             0.5,
             "#f7f7f7"
            ],
            [
             0.6,
             "#e6f5d0"
            ],
            [
             0.7,
             "#b8e186"
            ],
            [
             0.8,
             "#7fbc41"
            ],
            [
             0.9,
             "#4d9221"
            ],
            [
             1,
             "#276419"
            ]
           ],
           "sequential": [
            [
             0,
             "#0d0887"
            ],
            [
             0.1111111111111111,
             "#46039f"
            ],
            [
             0.2222222222222222,
             "#7201a8"
            ],
            [
             0.3333333333333333,
             "#9c179e"
            ],
            [
             0.4444444444444444,
             "#bd3786"
            ],
            [
             0.5555555555555556,
             "#d8576b"
            ],
            [
             0.6666666666666666,
             "#ed7953"
            ],
            [
             0.7777777777777778,
             "#fb9f3a"
            ],
            [
             0.8888888888888888,
             "#fdca26"
            ],
            [
             1,
             "#f0f921"
            ]
           ],
           "sequentialminus": [
            [
             0,
             "#0d0887"
            ],
            [
             0.1111111111111111,
             "#46039f"
            ],
            [
             0.2222222222222222,
             "#7201a8"
            ],
            [
             0.3333333333333333,
             "#9c179e"
            ],
            [
             0.4444444444444444,
             "#bd3786"
            ],
            [
             0.5555555555555556,
             "#d8576b"
            ],
            [
             0.6666666666666666,
             "#ed7953"
            ],
            [
             0.7777777777777778,
             "#fb9f3a"
            ],
            [
             0.8888888888888888,
             "#fdca26"
            ],
            [
             1,
             "#f0f921"
            ]
           ]
          },
          "colorway": [
           "#636efa",
           "#EF553B",
           "#00cc96",
           "#ab63fa",
           "#FFA15A",
           "#19d3f3",
           "#FF6692",
           "#B6E880",
           "#FF97FF",
           "#FECB52"
          ],
          "font": {
           "color": "#2a3f5f"
          },
          "geo": {
           "bgcolor": "white",
           "lakecolor": "white",
           "landcolor": "#E5ECF6",
           "showlakes": true,
           "showland": true,
           "subunitcolor": "white"
          },
          "hoverlabel": {
           "align": "left"
          },
          "hovermode": "closest",
          "mapbox": {
           "style": "light"
          },
          "paper_bgcolor": "white",
          "plot_bgcolor": "#E5ECF6",
          "polar": {
           "angularaxis": {
            "gridcolor": "white",
            "linecolor": "white",
            "ticks": ""
           },
           "bgcolor": "#E5ECF6",
           "radialaxis": {
            "gridcolor": "white",
            "linecolor": "white",
            "ticks": ""
           }
          },
          "scene": {
           "xaxis": {
            "backgroundcolor": "#E5ECF6",
            "gridcolor": "white",
            "gridwidth": 2,
            "linecolor": "white",
            "showbackground": true,
            "ticks": "",
            "zerolinecolor": "white"
           },
           "yaxis": {
            "backgroundcolor": "#E5ECF6",
            "gridcolor": "white",
            "gridwidth": 2,
            "linecolor": "white",
            "showbackground": true,
            "ticks": "",
            "zerolinecolor": "white"
           },
           "zaxis": {
            "backgroundcolor": "#E5ECF6",
            "gridcolor": "white",
            "gridwidth": 2,
            "linecolor": "white",
            "showbackground": true,
            "ticks": "",
            "zerolinecolor": "white"
           }
          },
          "shapedefaults": {
           "line": {
            "color": "#2a3f5f"
           }
          },
          "ternary": {
           "aaxis": {
            "gridcolor": "white",
            "linecolor": "white",
            "ticks": ""
           },
           "baxis": {
            "gridcolor": "white",
            "linecolor": "white",
            "ticks": ""
           },
           "bgcolor": "#E5ECF6",
           "caxis": {
            "gridcolor": "white",
            "linecolor": "white",
            "ticks": ""
           }
          },
          "title": {
           "x": 0.05
          },
          "xaxis": {
           "automargin": true,
           "gridcolor": "white",
           "linecolor": "white",
           "ticks": "",
           "title": {
            "standoff": 15
           },
           "zerolinecolor": "white",
           "zerolinewidth": 2
          },
          "yaxis": {
           "automargin": true,
           "gridcolor": "white",
           "linecolor": "white",
           "ticks": "",
           "title": {
            "standoff": 15
           },
           "zerolinecolor": "white",
           "zerolinewidth": 2
          }
         }
        }
       }
      }
     },
     "metadata": {},
     "output_type": "display_data"
    }
   ],
   "source": [
    "from gtda.plotting import plot_point_cloud\n",
    "plot_point_cloud(series_embedded)"
   ]
  },
  {
   "cell_type": "code",
   "execution_count": null,
   "id": "5e2b5714",
   "metadata": {},
   "outputs": [],
   "source": [
    "series_embedded_data = np.array(series_embedded)\n"
   ]
  },
  {
   "cell_type": "code",
   "execution_count": null,
   "id": "2f22565d",
   "metadata": {},
   "outputs": [
    {
     "data": {
      "application/vnd.plotly.v1+json": {
       "config": {
        "plotlyServerURL": "https://plot.ly"
       },
       "data": [
        {
         "hoverinfo": "none",
         "line": {
          "color": "black",
          "dash": "dash",
          "width": 1
         },
         "mode": "lines",
         "showlegend": false,
         "type": "scatter",
         "x": [
          -0.01570710778236389,
          0.8010624969005584
         ],
         "y": [
          -0.01570710778236389,
          0.8010624969005584
         ]
        },
        {
         "hoverinfo": "text",
         "hovertext": [
          "(0.0, 0.11564485728740692)",
          "(0.0, 0.15359258651733398)",
          "(0.0, 0.19208236038684845)",
          "(0.0, 0.21778959035873413)",
          "(0.0, 0.2299991250038147)",
          "(0.0, 0.23968331515789032)",
          "(0.0, 0.261445552110672)",
          "(0.0, 0.2833143472671509)",
          "(0.0, 0.2897818684577942)",
          "(0.0, 0.30767396092414856)",
          "(0.0, 0.3079274296760559)",
          "(0.0, 0.3260580003261566)",
          "(0.0, 0.3451954126358032)",
          "(0.0, 0.3748721182346344)",
          "(0.0, 0.3784261643886566)",
          "(0.0, 0.38209521770477295)",
          "(0.0, 0.3870154917240143)",
          "(0.0, 0.42174747586250305)",
          "(0.0, 0.45624932646751404)",
          "(0.0, 0.4697604477405548)",
          "(0.0, 0.4839012026786804)",
          "(0.0, 0.4913069009780884)",
          "(0.0, 0.49360179901123047)",
          "(0.0, 0.5139198899269104)",
          "(0.0, 0.5324276089668274)",
          "(0.0, 0.5396542549133301)",
          "(0.0, 0.5892694592475891)",
          "(0.0, 0.5926569104194641)",
          "(0.0, 0.6147812604904175)",
          "(0.0, 0.6169789433479309)",
          "(0.0, 0.7327314615249634)"
         ],
         "mode": "markers",
         "name": "H0",
         "type": "scatter",
         "x": {
          "bdata": "AAAAAAAAAAAAAAAAAAAAAAAAAAAAAAAAAAAAAAAAAAAAAAAAAAAAAAAAAAAAAAAAAAAAAAAAAAAAAAAAAAAAAAAAAAAAAAAAAAAAAAAAAAAAAAAAAAAAAAAAAAAAAAAAAAAAAAAAAAAAAAAAAAAAAAAAAAAAAAAAAAAAAAAAAAAAAAAAAAAAAAAAAAAAAAAAAAAAAAAAAAAAAAAAAAAAAAAAAAAAAAAAAAAAAAAAAAAAAAAAAAAAAAAAAAAAAAAAAAAAAAAAAAAAAAAAAAAAAAAAAAAAAAAAAAAAAAAAAAAAAAAAAAAAAAAAAAAAAAAAAAAAAAAAAAA=",
          "dtype": "f8"
         },
         "y": {
          "bdata": "AAAAwOaavT8AAAAA7KjDPwAAAKAnlsg/AAAAgIfgyz8AAACAnHDNPwAAAGDxrc4/AAAAIIa70D8AAACA0iHSPwAAAEDJi9I/AAAAIO6w0z8AAABAFbXTPwAAAGAi3tQ/AAAAgK4X1j8AAACg5/3XPwAAAGAiONg/AAAAgD902D8AAACg3MTYPwAAACDp/do/AAAAYDAz3T8AAAAgjhDePwAAAMA8+N4/AAAAgJJx3z8AAAAALJffPwAAACAIcuA/AAAAoKUJ4T8AAAAA2UThPwAAAKBL2+I/AAAAoAv34j8AAADASazjPwAAAKBKvuM/AAAAQIly5z8=",
          "dtype": "f8"
         }
        },
        {
         "hoverinfo": "text",
         "hovertext": [
          "(0.7384554743766785, 0.7853553891181946)",
          "(0.7290261387825012, 0.7660034894943237)",
          "(0.6863743662834167, 0.7168721556663513)",
          "(0.6573722958564758, 0.7168721556663513)",
          "(0.6532508730888367, 0.6972291469573975)",
          "(0.6374393701553345, 0.7245540022850037)",
          "(0.6243690848350525, 0.6727600693702698)",
          "(0.6211353540420532, 0.6785850524902344)",
          "(0.5423474907875061, 0.6963968873023987)",
          "(0.5151140689849854, 0.5942655205726624)"
         ],
         "mode": "markers",
         "name": "H1",
         "type": "scatter",
         "x": {
          "bdata": "AAAAYG2h5z8AAACgLlTnPwAAAGDH9uU/AAAAoDEJ5T8AAABgbufkPwAAAEDnZeQ/AAAA4NT64z8AAABAV+DjPwAAACDpWuE/AAAAgNB74D8=",
          "dtype": "f8"
         },
         "y": {
          "bdata": "AAAAoKEh6T8AAADAGYPoPwAAAOCd8OY/AAAA4J3w5j8AAACAs0/mPwAAAOCLL+c/AAAAIECH5T8AAAAA+LblPwAAACDiSOY/AAAAIDkE4z8=",
          "dtype": "f8"
         }
        }
       ],
       "layout": {
        "height": 500,
        "plot_bgcolor": "white",
        "template": {
         "data": {
          "bar": [
           {
            "error_x": {
             "color": "#2a3f5f"
            },
            "error_y": {
             "color": "#2a3f5f"
            },
            "marker": {
             "line": {
              "color": "#E5ECF6",
              "width": 0.5
             },
             "pattern": {
              "fillmode": "overlay",
              "size": 10,
              "solidity": 0.2
             }
            },
            "type": "bar"
           }
          ],
          "barpolar": [
           {
            "marker": {
             "line": {
              "color": "#E5ECF6",
              "width": 0.5
             },
             "pattern": {
              "fillmode": "overlay",
              "size": 10,
              "solidity": 0.2
             }
            },
            "type": "barpolar"
           }
          ],
          "carpet": [
           {
            "aaxis": {
             "endlinecolor": "#2a3f5f",
             "gridcolor": "white",
             "linecolor": "white",
             "minorgridcolor": "white",
             "startlinecolor": "#2a3f5f"
            },
            "baxis": {
             "endlinecolor": "#2a3f5f",
             "gridcolor": "white",
             "linecolor": "white",
             "minorgridcolor": "white",
             "startlinecolor": "#2a3f5f"
            },
            "type": "carpet"
           }
          ],
          "choropleth": [
           {
            "colorbar": {
             "outlinewidth": 0,
             "ticks": ""
            },
            "type": "choropleth"
           }
          ],
          "contour": [
           {
            "colorbar": {
             "outlinewidth": 0,
             "ticks": ""
            },
            "colorscale": [
             [
              0,
              "#0d0887"
             ],
             [
              0.1111111111111111,
              "#46039f"
             ],
             [
              0.2222222222222222,
              "#7201a8"
             ],
             [
              0.3333333333333333,
              "#9c179e"
             ],
             [
              0.4444444444444444,
              "#bd3786"
             ],
             [
              0.5555555555555556,
              "#d8576b"
             ],
             [
              0.6666666666666666,
              "#ed7953"
             ],
             [
              0.7777777777777778,
              "#fb9f3a"
             ],
             [
              0.8888888888888888,
              "#fdca26"
             ],
             [
              1,
              "#f0f921"
             ]
            ],
            "type": "contour"
           }
          ],
          "contourcarpet": [
           {
            "colorbar": {
             "outlinewidth": 0,
             "ticks": ""
            },
            "type": "contourcarpet"
           }
          ],
          "heatmap": [
           {
            "colorbar": {
             "outlinewidth": 0,
             "ticks": ""
            },
            "colorscale": [
             [
              0,
              "#0d0887"
             ],
             [
              0.1111111111111111,
              "#46039f"
             ],
             [
              0.2222222222222222,
              "#7201a8"
             ],
             [
              0.3333333333333333,
              "#9c179e"
             ],
             [
              0.4444444444444444,
              "#bd3786"
             ],
             [
              0.5555555555555556,
              "#d8576b"
             ],
             [
              0.6666666666666666,
              "#ed7953"
             ],
             [
              0.7777777777777778,
              "#fb9f3a"
             ],
             [
              0.8888888888888888,
              "#fdca26"
             ],
             [
              1,
              "#f0f921"
             ]
            ],
            "type": "heatmap"
           }
          ],
          "histogram": [
           {
            "marker": {
             "pattern": {
              "fillmode": "overlay",
              "size": 10,
              "solidity": 0.2
             }
            },
            "type": "histogram"
           }
          ],
          "histogram2d": [
           {
            "colorbar": {
             "outlinewidth": 0,
             "ticks": ""
            },
            "colorscale": [
             [
              0,
              "#0d0887"
             ],
             [
              0.1111111111111111,
              "#46039f"
             ],
             [
              0.2222222222222222,
              "#7201a8"
             ],
             [
              0.3333333333333333,
              "#9c179e"
             ],
             [
              0.4444444444444444,
              "#bd3786"
             ],
             [
              0.5555555555555556,
              "#d8576b"
             ],
             [
              0.6666666666666666,
              "#ed7953"
             ],
             [
              0.7777777777777778,
              "#fb9f3a"
             ],
             [
              0.8888888888888888,
              "#fdca26"
             ],
             [
              1,
              "#f0f921"
             ]
            ],
            "type": "histogram2d"
           }
          ],
          "histogram2dcontour": [
           {
            "colorbar": {
             "outlinewidth": 0,
             "ticks": ""
            },
            "colorscale": [
             [
              0,
              "#0d0887"
             ],
             [
              0.1111111111111111,
              "#46039f"
             ],
             [
              0.2222222222222222,
              "#7201a8"
             ],
             [
              0.3333333333333333,
              "#9c179e"
             ],
             [
              0.4444444444444444,
              "#bd3786"
             ],
             [
              0.5555555555555556,
              "#d8576b"
             ],
             [
              0.6666666666666666,
              "#ed7953"
             ],
             [
              0.7777777777777778,
              "#fb9f3a"
             ],
             [
              0.8888888888888888,
              "#fdca26"
             ],
             [
              1,
              "#f0f921"
             ]
            ],
            "type": "histogram2dcontour"
           }
          ],
          "mesh3d": [
           {
            "colorbar": {
             "outlinewidth": 0,
             "ticks": ""
            },
            "type": "mesh3d"
           }
          ],
          "parcoords": [
           {
            "line": {
             "colorbar": {
              "outlinewidth": 0,
              "ticks": ""
             }
            },
            "type": "parcoords"
           }
          ],
          "pie": [
           {
            "automargin": true,
            "type": "pie"
           }
          ],
          "scatter": [
           {
            "fillpattern": {
             "fillmode": "overlay",
             "size": 10,
             "solidity": 0.2
            },
            "type": "scatter"
           }
          ],
          "scatter3d": [
           {
            "line": {
             "colorbar": {
              "outlinewidth": 0,
              "ticks": ""
             }
            },
            "marker": {
             "colorbar": {
              "outlinewidth": 0,
              "ticks": ""
             }
            },
            "type": "scatter3d"
           }
          ],
          "scattercarpet": [
           {
            "marker": {
             "colorbar": {
              "outlinewidth": 0,
              "ticks": ""
             }
            },
            "type": "scattercarpet"
           }
          ],
          "scattergeo": [
           {
            "marker": {
             "colorbar": {
              "outlinewidth": 0,
              "ticks": ""
             }
            },
            "type": "scattergeo"
           }
          ],
          "scattergl": [
           {
            "marker": {
             "colorbar": {
              "outlinewidth": 0,
              "ticks": ""
             }
            },
            "type": "scattergl"
           }
          ],
          "scattermap": [
           {
            "marker": {
             "colorbar": {
              "outlinewidth": 0,
              "ticks": ""
             }
            },
            "type": "scattermap"
           }
          ],
          "scattermapbox": [
           {
            "marker": {
             "colorbar": {
              "outlinewidth": 0,
              "ticks": ""
             }
            },
            "type": "scattermapbox"
           }
          ],
          "scatterpolar": [
           {
            "marker": {
             "colorbar": {
              "outlinewidth": 0,
              "ticks": ""
             }
            },
            "type": "scatterpolar"
           }
          ],
          "scatterpolargl": [
           {
            "marker": {
             "colorbar": {
              "outlinewidth": 0,
              "ticks": ""
             }
            },
            "type": "scatterpolargl"
           }
          ],
          "scatterternary": [
           {
            "marker": {
             "colorbar": {
              "outlinewidth": 0,
              "ticks": ""
             }
            },
            "type": "scatterternary"
           }
          ],
          "surface": [
           {
            "colorbar": {
             "outlinewidth": 0,
             "ticks": ""
            },
            "colorscale": [
             [
              0,
              "#0d0887"
             ],
             [
              0.1111111111111111,
              "#46039f"
             ],
             [
              0.2222222222222222,
              "#7201a8"
             ],
             [
              0.3333333333333333,
              "#9c179e"
             ],
             [
              0.4444444444444444,
              "#bd3786"
             ],
             [
              0.5555555555555556,
              "#d8576b"
             ],
             [
              0.6666666666666666,
              "#ed7953"
             ],
             [
              0.7777777777777778,
              "#fb9f3a"
             ],
             [
              0.8888888888888888,
              "#fdca26"
             ],
             [
              1,
              "#f0f921"
             ]
            ],
            "type": "surface"
           }
          ],
          "table": [
           {
            "cells": {
             "fill": {
              "color": "#EBF0F8"
             },
             "line": {
              "color": "white"
             }
            },
            "header": {
             "fill": {
              "color": "#C8D4E3"
             },
             "line": {
              "color": "white"
             }
            },
            "type": "table"
           }
          ]
         },
         "layout": {
          "annotationdefaults": {
           "arrowcolor": "#2a3f5f",
           "arrowhead": 0,
           "arrowwidth": 1
          },
          "autotypenumbers": "strict",
          "coloraxis": {
           "colorbar": {
            "outlinewidth": 0,
            "ticks": ""
           }
          },
          "colorscale": {
           "diverging": [
            [
             0,
             "#8e0152"
            ],
            [
             0.1,
             "#c51b7d"
            ],
            [
             0.2,
             "#de77ae"
            ],
            [
             0.3,
             "#f1b6da"
            ],
            [
             0.4,
             "#fde0ef"
            ],
            [
             0.5,
             "#f7f7f7"
            ],
            [
             0.6,
             "#e6f5d0"
            ],
            [
             0.7,
             "#b8e186"
            ],
            [
             0.8,
             "#7fbc41"
            ],
            [
             0.9,
             "#4d9221"
            ],
            [
             1,
             "#276419"
            ]
           ],
           "sequential": [
            [
             0,
             "#0d0887"
            ],
            [
             0.1111111111111111,
             "#46039f"
            ],
            [
             0.2222222222222222,
             "#7201a8"
            ],
            [
             0.3333333333333333,
             "#9c179e"
            ],
            [
             0.4444444444444444,
             "#bd3786"
            ],
            [
             0.5555555555555556,
             "#d8576b"
            ],
            [
             0.6666666666666666,
             "#ed7953"
            ],
            [
             0.7777777777777778,
             "#fb9f3a"
            ],
            [
             0.8888888888888888,
             "#fdca26"
            ],
            [
             1,
             "#f0f921"
            ]
           ],
           "sequentialminus": [
            [
             0,
             "#0d0887"
            ],
            [
             0.1111111111111111,
             "#46039f"
            ],
            [
             0.2222222222222222,
             "#7201a8"
            ],
            [
             0.3333333333333333,
             "#9c179e"
            ],
            [
             0.4444444444444444,
             "#bd3786"
            ],
            [
             0.5555555555555556,
             "#d8576b"
            ],
            [
             0.6666666666666666,
             "#ed7953"
            ],
            [
             0.7777777777777778,
             "#fb9f3a"
            ],
            [
             0.8888888888888888,
             "#fdca26"
            ],
            [
             1,
             "#f0f921"
            ]
           ]
          },
          "colorway": [
           "#636efa",
           "#EF553B",
           "#00cc96",
           "#ab63fa",
           "#FFA15A",
           "#19d3f3",
           "#FF6692",
           "#B6E880",
           "#FF97FF",
           "#FECB52"
          ],
          "font": {
           "color": "#2a3f5f"
          },
          "geo": {
           "bgcolor": "white",
           "lakecolor": "white",
           "landcolor": "#E5ECF6",
           "showlakes": true,
           "showland": true,
           "subunitcolor": "white"
          },
          "hoverlabel": {
           "align": "left"
          },
          "hovermode": "closest",
          "mapbox": {
           "style": "light"
          },
          "paper_bgcolor": "white",
          "plot_bgcolor": "#E5ECF6",
          "polar": {
           "angularaxis": {
            "gridcolor": "white",
            "linecolor": "white",
            "ticks": ""
           },
           "bgcolor": "#E5ECF6",
           "radialaxis": {
            "gridcolor": "white",
            "linecolor": "white",
            "ticks": ""
           }
          },
          "scene": {
           "xaxis": {
            "backgroundcolor": "#E5ECF6",
            "gridcolor": "white",
            "gridwidth": 2,
            "linecolor": "white",
            "showbackground": true,
            "ticks": "",
            "zerolinecolor": "white"
           },
           "yaxis": {
            "backgroundcolor": "#E5ECF6",
            "gridcolor": "white",
            "gridwidth": 2,
            "linecolor": "white",
            "showbackground": true,
            "ticks": "",
            "zerolinecolor": "white"
           },
           "zaxis": {
            "backgroundcolor": "#E5ECF6",
            "gridcolor": "white",
            "gridwidth": 2,
            "linecolor": "white",
            "showbackground": true,
            "ticks": "",
            "zerolinecolor": "white"
           }
          },
          "shapedefaults": {
           "line": {
            "color": "#2a3f5f"
           }
          },
          "ternary": {
           "aaxis": {
            "gridcolor": "white",
            "linecolor": "white",
            "ticks": ""
           },
           "baxis": {
            "gridcolor": "white",
            "linecolor": "white",
            "ticks": ""
           },
           "bgcolor": "#E5ECF6",
           "caxis": {
            "gridcolor": "white",
            "linecolor": "white",
            "ticks": ""
           }
          },
          "title": {
           "x": 0.05
          },
          "xaxis": {
           "automargin": true,
           "gridcolor": "white",
           "linecolor": "white",
           "ticks": "",
           "title": {
            "standoff": 15
           },
           "zerolinecolor": "white",
           "zerolinewidth": 2
          },
          "yaxis": {
           "automargin": true,
           "gridcolor": "white",
           "linecolor": "white",
           "ticks": "",
           "title": {
            "standoff": 15
           },
           "zerolinecolor": "white",
           "zerolinewidth": 2
          }
         }
        },
        "width": 500,
        "xaxis": {
         "autorange": false,
         "exponentformat": "e",
         "linecolor": "black",
         "linewidth": 1,
         "mirror": false,
         "range": [
          -0.01570710778236389,
          0.8010624969005584
         ],
         "showexponent": "all",
         "showline": true,
         "side": "bottom",
         "ticks": "outside",
         "title": {
          "text": "Birth"
         },
         "type": "linear",
         "zeroline": true
        },
        "yaxis": {
         "autorange": false,
         "exponentformat": "e",
         "linecolor": "black",
         "linewidth": 1,
         "mirror": false,
         "range": [
          -0.01570710778236389,
          0.8010624969005584
         ],
         "scaleanchor": "x",
         "scaleratio": 1,
         "showexponent": "all",
         "showline": true,
         "side": "left",
         "ticks": "outside",
         "title": {
          "text": "Death"
         },
         "type": "linear",
         "zeroline": true
        }
       }
      }
     },
     "metadata": {},
     "output_type": "display_data"
    }
   ],
   "source": [
    "from gtda.homology import WeakAlphaPersistence\n",
    "\n",
    "homology_dims = [0, 1]\n",
    "\n",
    "WA = WeakAlphaPersistence(homology_dimensions = homology_dims)\n",
    "X_diagrams = WA.fit_transform(series_embedded_data[None,:,:]) \n",
    "WA.plot(X_diagrams)"
   ]
  },
  {
   "cell_type": "code",
   "execution_count": null,
   "id": "b66b0c78",
   "metadata": {},
   "outputs": [],
   "source": []
  }
 ],
 "metadata": {
  "kernelspec": {
   "display_name": "hugait-tda",
   "language": "python",
   "name": "python3"
  },
  "language_info": {
   "codemirror_mode": {
    "name": "ipython",
    "version": 3
   },
   "file_extension": ".py",
   "mimetype": "text/x-python",
   "name": "python",
   "nbconvert_exporter": "python",
   "pygments_lexer": "ipython3",
   "version": "3.11.7"
  }
 },
 "nbformat": 4,
 "nbformat_minor": 5
}
