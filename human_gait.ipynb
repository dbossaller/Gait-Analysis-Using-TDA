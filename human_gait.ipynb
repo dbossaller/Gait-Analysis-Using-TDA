{
 "cells": [
  {
   "cell_type": "code",
   "execution_count": null,
   "id": "91d465c8",
   "metadata": {},
   "outputs": [],
   "source": [
    "import pandas as pd\n",
    "import numpy as np\n",
    "import matplotlib.pyplot as plt\n",
    "import random\n",
    "\n",
    "from find_walking_frames import find_walking_data\n",
    "from pre_process import find_period_acf\n"
   ]
  },
  {
   "cell_type": "code",
   "execution_count": null,
   "id": "9fb7ce1d",
   "metadata": {},
   "outputs": [],
   "source": [
    "directory = 'data/'\n",
    "\n",
    "subject_num = '4'\n",
    "\n",
    "sub_walks = find_walking_data(subject_num, directory)\n",
    "\n",
    "keys = sub_walks.keys()\n",
    "\n",
    "sub_choice = random.choice(list(keys))\n",
    "\n",
    "length = len(sub_walks[sub_choice])\n",
    "\n"
   ]
  },
  {
   "cell_type": "code",
   "execution_count": null,
   "id": "085e92fb",
   "metadata": {},
   "outputs": [],
   "source": [
    "df = sub_walks[sub_choice][random.randint(0, length-1)]"
   ]
  },
  {
   "cell_type": "code",
   "execution_count": null,
   "id": "35f6ffd3",
   "metadata": {},
   "outputs": [],
   "source": [
    "df.head()"
   ]
  },
  {
   "cell_type": "code",
   "execution_count": null,
   "id": "7e31871c",
   "metadata": {},
   "outputs": [],
   "source": [
    "df.columns"
   ]
  },
  {
   "cell_type": "code",
   "execution_count": null,
   "id": "244976ec",
   "metadata": {},
   "outputs": [],
   "source": [
    "from datetime import timedelta\n",
    "\n",
    "def conv_acceleration(num):\n",
    "    return 2*num/32768\n",
    "\n",
    "\n",
    "df_accel = pd.DataFrame(None)\n",
    "\n",
    "for column in df.columns:\n",
    "    if 'acc' in column:\n",
    "        df_accel[column] = df[column].apply(conv_acceleration)\n",
    "\n",
    "# delta = timedelta(seconds = 1/56.35)\n",
    "\n",
    "\n",
    "# df_accel['time'] = (df.index - df.index[0]) * delta\n",
    "\n",
    "# df_accel.set_index('time', inplace = True)\n",
    "\n",
    "df_accel.head()"
   ]
  },
  {
   "cell_type": "markdown",
   "id": "0ba25ab2",
   "metadata": {},
   "source": [
    "The acceleration data can be converted to gravitational accelleration by taking $2x/32768$."
   ]
  },
  {
   "cell_type": "code",
   "execution_count": null,
   "id": "78aaea70",
   "metadata": {},
   "outputs": [],
   "source": [
    "df_accel_rs = df_accel[['acc_rs_x', 'acc_rs_y', 'acc_rs_z']]"
   ]
  },
  {
   "cell_type": "code",
   "execution_count": null,
   "id": "9d0ec786",
   "metadata": {},
   "outputs": [],
   "source": [
    "fig, axes = plt.subplots(3,1, sharex = True)\n",
    "for ax,column in zip(axes, df_accel_rs.columns):\n",
    "    ax.plot(df_accel_rs.index, df_accel_rs[column])\n",
    "    ax.set_ylim(-2,2)"
   ]
  },
  {
   "cell_type": "code",
   "execution_count": null,
   "id": "9d7f630f",
   "metadata": {},
   "outputs": [],
   "source": [
    "fig, ax = plt.subplots()\n",
    "ax.plot(df_accel_rs.index, df_accel_rs['acc_rs_z'])\n",
    "ax.set_ylim(-2,2)"
   ]
  },
  {
   "cell_type": "code",
   "execution_count": null,
   "id": "71db5927",
   "metadata": {},
   "outputs": [],
   "source": [
    "df = df_accel_rs['acc_rs_z']\n",
    "\n",
    "period = find_period_acf(df, 150)\n",
    "\n",
    "num_strides = len(df)//period + 1"
   ]
  },
  {
   "cell_type": "code",
   "execution_count": null,
   "id": "4f798295",
   "metadata": {},
   "outputs": [],
   "source": [
    "from gtda.time_series import takens_embedding_optimal_parameters\n",
    "from random import randint\n",
    "\n",
    "num_periods = 4\n",
    "\n",
    "wind_start = randint(0,num_strides - num_periods)\n",
    "\n",
    "series = np.asarray(df_accel_rs['acc_rs_z'][wind_start*period: wind_start*period + num_periods*period])\n",
    "max_embed_dim = 10\n",
    "max_delay = 5\n",
    "stride = 1\n",
    "\n",
    "optimal_time_delay, optimal_embedding_dimension = takens_embedding_optimal_parameters(\n",
    "    series, max_delay, max_embed_dim, stride=stride\n",
    "    )\n",
    "\n",
    "print(f\"Optimal embedding time delay based on mutual information: {optimal_time_delay}\")\n",
    "print(f\"Optimal embedding dimension based on false nearest neighbors: {optimal_embedding_dimension}\")\n"
   ]
  },
  {
   "cell_type": "code",
   "execution_count": null,
   "id": "d42c28b8",
   "metadata": {},
   "outputs": [],
   "source": [
    "from gtda.time_series import SingleTakensEmbedding\n",
    "\n",
    "TE = SingleTakensEmbedding(time_delay=optimal_time_delay, dimension=optimal_embedding_dimension, stride=stride)\n",
    "series_embedded = TE.fit_transform((series.reshape(-1,1)))"
   ]
  },
  {
   "cell_type": "code",
   "execution_count": null,
   "id": "137a0bb1",
   "metadata": {},
   "outputs": [],
   "source": [
    "from sklearn.decomposition import PCA\n",
    "from gtda.plotting import plot_point_cloud\n",
    "\n",
    "if optimal_embedding_dimension >=3:\n",
    "    pca = PCA(n_components=3)\n",
    "\n",
    "    series_embedded_pca = pca.fit_transform(series_embedded)\n",
    "else:\n",
    "    series_embedded_pca = series_embedded\n",
    "\n",
    "plot_point_cloud(series_embedded_pca)"
   ]
  },
  {
   "cell_type": "code",
   "execution_count": null,
   "id": "5e2b5714",
   "metadata": {},
   "outputs": [],
   "source": [
    "series_embedded_data = np.array(series_embedded_pca)\n"
   ]
  },
  {
   "cell_type": "code",
   "execution_count": null,
   "id": "2f22565d",
   "metadata": {},
   "outputs": [],
   "source": [
    "from gtda.homology import WeakAlphaPersistence\n",
    "\n",
    "homology_dims = [0, 1]\n",
    "\n",
    "WA = WeakAlphaPersistence(homology_dimensions = homology_dims)\n",
    "X_diagrams = WA.fit_transform(series_embedded_data[None,:,:],) \n",
    "\n",
    "WA.plot(X_diagrams)"
   ]
  },
  {
   "cell_type": "code",
   "execution_count": null,
   "id": "6c791bb1",
   "metadata": {},
   "outputs": [],
   "source": [
    "from gtda.diagrams import Scaler\n",
    "scaling = Scaler()\n",
    "X_diag_scaled = scaling.fit_transform(X_diagrams)\n",
    "WA.plot(X_diag_scaled)"
   ]
  },
  {
   "cell_type": "code",
   "execution_count": null,
   "id": "8dad7c9a",
   "metadata": {},
   "outputs": [],
   "source": [
    "from gtda.diagrams import PersistenceEntropy\n",
    "\n",
    "entropy = PersistenceEntropy(normalize = True, nan_fill_value=-10)\n",
    "\n",
    "entropy.fit_transform(X_diag_scaled)"
   ]
  },
  {
   "cell_type": "code",
   "execution_count": null,
   "id": "ecb7cb68",
   "metadata": {},
   "outputs": [],
   "source": []
  }
 ],
 "metadata": {
  "kernelspec": {
   "display_name": "hugait_tda",
   "language": "python",
   "name": "python3"
  },
  "language_info": {
   "codemirror_mode": {
    "name": "ipython",
    "version": 3
   },
   "file_extension": ".py",
   "mimetype": "text/x-python",
   "name": "python",
   "nbconvert_exporter": "python",
   "pygments_lexer": "ipython3",
   "version": "3.11.13"
  }
 },
 "nbformat": 4,
 "nbformat_minor": 5
}
