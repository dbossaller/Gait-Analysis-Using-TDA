{
 "cells": [
  {
   "cell_type": "code",
   "execution_count": null,
   "id": "91d465c8",
   "metadata": {},
   "outputs": [],
   "source": [
    "import pandas as pd\n",
    "import numpy as np\n",
    "import matplotlib.pyplot as plt\n",
    "\n",
    "from find_walking_frames import find_walking_data"
   ]
  },
  {
   "cell_type": "code",
   "execution_count": null,
   "id": "9fb7ce1d",
   "metadata": {},
   "outputs": [],
   "source": [
    "directory = 'data/'\n",
    "subject_num = '1'\n",
    "\n",
    "sub_1_walks = find_walking_data(subject_num, directory)\n",
    "\n",
    "sub_1_walks.keys()"
   ]
  },
  {
   "cell_type": "code",
   "execution_count": null,
   "id": "085e92fb",
   "metadata": {},
   "outputs": [],
   "source": [
    "df = sub_1_walks['01_07'][0]"
   ]
  },
  {
   "cell_type": "code",
   "execution_count": null,
   "id": "35f6ffd3",
   "metadata": {},
   "outputs": [],
   "source": [
    "df.head()"
   ]
  },
  {
   "cell_type": "code",
   "execution_count": null,
   "id": "7e31871c",
   "metadata": {},
   "outputs": [],
   "source": [
    "df.columns"
   ]
  },
  {
   "cell_type": "code",
   "execution_count": null,
   "id": "78aaea70",
   "metadata": {},
   "outputs": [],
   "source": [
    "df_rf = df[['acc_rf_x', 'acc_rf_y', 'acc_rf_z']]"
   ]
  },
  {
   "cell_type": "code",
   "execution_count": null,
   "id": "9d0ec786",
   "metadata": {},
   "outputs": [],
   "source": [
    "plt.plot(df.index, df['acc_rf_x'])"
   ]
  },
  {
   "cell_type": "code",
   "execution_count": null,
   "id": "9d7f630f",
   "metadata": {},
   "outputs": [],
   "source": []
  }
 ],
 "metadata": {
  "kernelspec": {
   "display_name": "hugait_tda",
   "language": "python",
   "name": "python3"
  },
  "language_info": {
   "codemirror_mode": {
    "name": "ipython",
    "version": 3
   },
   "file_extension": ".py",
   "mimetype": "text/x-python",
   "name": "python",
   "nbconvert_exporter": "python",
   "pygments_lexer": "ipython3",
   "version": "3.11.13"
  }
 },
 "nbformat": 4,
 "nbformat_minor": 5
}
