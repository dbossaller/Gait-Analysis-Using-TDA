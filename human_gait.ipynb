{
 "cells": [
  {
   "cell_type": "code",
   "execution_count": null,
   "id": "91d465c8",
   "metadata": {},
   "outputs": [],
   "source": [
    "import pandas as pd\n",
    "import numpy as np"
   ]
  },
  {
   "cell_type": "code",
   "execution_count": null,
   "id": "1d76d126",
   "metadata": {},
   "outputs": [],
   "source": [
    "# Windows Command\n",
    "# df = pd.read_csv('data\\HuGaDB_v2_various_01_00.txt', sep = '\\t', header=3)\n",
    "\n",
    "#Linux Command\n",
    "df = pd.read_csv('data/HuGaDB_v2_various_01_04.txt', sep = '\\t', header=3)"
   ]
  },
  {
   "cell_type": "code",
   "execution_count": null,
   "id": "68733e87",
   "metadata": {},
   "outputs": [],
   "source": [
    "df.head()"
   ]
  },
  {
   "cell_type": "code",
   "execution_count": null,
   "id": "c5f41b2b",
   "metadata": {},
   "outputs": [],
   "source": [
    "df['act'].unique()"
   ]
  },
  {
   "cell_type": "code",
   "execution_count": null,
   "id": "31c21890",
   "metadata": {},
   "outputs": [],
   "source": [
    "# Windows Filepath\n",
    "# file_path = 'data\\HuGaDB_v2_various_01_00.txt'\n",
    "# Linux Filepath\n",
    "file_path = 'data/HuGaDB_v2_various_01_04.txt'\n",
    "n = 2\n",
    "with open(file_path, 'r') as file:\n",
    "    first_two_lines = file.readlines()[0:2]"
   ]
  },
  {
   "cell_type": "code",
   "execution_count": null,
   "id": "1b4bd7f8",
   "metadata": {},
   "outputs": [],
   "source": [
    "first_two_lines"
   ]
  },
  {
   "cell_type": "code",
   "execution_count": null,
   "id": "37d1dfbd",
   "metadata": {},
   "outputs": [],
   "source": [
    "line1 = first_two_lines[0].lstrip('#Activity\\t').rstrip(' \\n').split(' ')\n",
    "line2 = first_two_lines[1].lstrip('#ActivityID\\t').rstrip(' \\n').split(' ')\n",
    "\n",
    "line1 = line1[0:-2]\n",
    "line2 = line2[0:-2]"
   ]
  },
  {
   "cell_type": "code",
   "execution_count": null,
   "id": "7ef9a8d6",
   "metadata": {},
   "outputs": [],
   "source": [
    "print(line1)\n",
    "print(line2)"
   ]
  },
  {
   "cell_type": "code",
   "execution_count": null,
   "id": "31950451",
   "metadata": {},
   "outputs": [],
   "source": [
    "activity_dict = {\n",
    "    num : act for num, act in zip(line2, line1)\n",
    "}"
   ]
  },
  {
   "cell_type": "code",
   "execution_count": null,
   "id": "4e2470f7",
   "metadata": {},
   "outputs": [],
   "source": [
    "activity_dict"
   ]
  },
  {
   "cell_type": "code",
   "execution_count": null,
   "id": "bd7d36d6",
   "metadata": {},
   "outputs": [],
   "source": [
    "df['activity'] = df['act'].apply(lambda x: activity_dict[str(x)])"
   ]
  },
  {
   "cell_type": "code",
   "execution_count": null,
   "id": "c2bbce8b",
   "metadata": {},
   "outputs": [],
   "source": [
    "df['activity'].unique()"
   ]
  },
  {
   "cell_type": "code",
   "execution_count": null,
   "id": "cceb3ebf",
   "metadata": {},
   "outputs": [],
   "source": [
    "walking_idx = df.loc[df['activity'] == 'walking'].index\n",
    "\n",
    "walking_idx"
   ]
  },
  {
   "cell_type": "code",
   "execution_count": null,
   "id": "59199def",
   "metadata": {},
   "outputs": [],
   "source": [
    "walking_idx_starts = [walking_idx[0]]\n",
    "walking_idx_ends = []\n",
    "for i in range(1, len(walking_idx)):\n",
    "    if walking_idx[i] != walking_idx[i-1] + 1:\n",
    "        walking_idx_starts.append(walking_idx[i])\n",
    "        walking_idx_ends.append(walking_idx[i-1])\n",
    "\n",
    "walking_ints = [(s,e) for (s,e) in zip(walking_idx_starts, walking_idx_ends)]\n",
    "\n",
    "walking_ints"
   ]
  },
  {
   "cell_type": "code",
   "execution_count": null,
   "id": "a4b443e9",
   "metadata": {},
   "outputs": [],
   "source": [
    "walk_dfs = []\n",
    "for int in walking_ints:\n",
    "    walk_dfs.append(df.iloc[int[0]:int[1]])"
   ]
  },
  {
   "cell_type": "code",
   "execution_count": null,
   "id": "8393e8ce",
   "metadata": {},
   "outputs": [],
   "source": []
  },
  {
   "cell_type": "code",
   "execution_count": null,
   "id": "9fb7ce1d",
   "metadata": {},
   "outputs": [],
   "source": []
  }
 ],
 "metadata": {
  "kernelspec": {
   "display_name": "hugait_tda",
   "language": "python",
   "name": "python3"
  },
  "language_info": {
   "codemirror_mode": {
    "name": "ipython",
    "version": 3
   },
   "file_extension": ".py",
   "mimetype": "text/x-python",
   "name": "python",
   "nbconvert_exporter": "python",
   "pygments_lexer": "ipython3",
   "version": "3.11.13"
  }
 },
 "nbformat": 4,
 "nbformat_minor": 5
}
