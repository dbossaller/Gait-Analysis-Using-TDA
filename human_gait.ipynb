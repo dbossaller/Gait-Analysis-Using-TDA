{
 "cells": [
  {
   "cell_type": "code",
   "execution_count": null,
   "id": "91d465c8",
   "metadata": {},
   "outputs": [],
   "source": [
    "import pandas as pd\n",
    "import numpy as np\n",
    "\n",
    "from find_walking_frames import find_walking_data"
   ]
  },
  {
   "cell_type": "code",
   "execution_count": null,
   "id": "9fb7ce1d",
   "metadata": {},
   "outputs": [],
   "source": [
    "directory = 'data/'\n",
    "subject_num = '11'\n",
    "\n",
    "find_walking_data(subject_num, directory)"
   ]
  },
  {
   "cell_type": "code",
   "execution_count": null,
   "id": "085e92fb",
   "metadata": {},
   "outputs": [],
   "source": []
  }
 ],
 "metadata": {
  "kernelspec": {
   "display_name": "hugait_tda",
   "language": "python",
   "name": "python3"
  },
  "language_info": {
   "codemirror_mode": {
    "name": "ipython",
    "version": 3
   },
   "file_extension": ".py",
   "mimetype": "text/x-python",
   "name": "python",
   "nbconvert_exporter": "python",
   "pygments_lexer": "ipython3",
   "version": "3.11.13"
  }
 },
 "nbformat": 4,
 "nbformat_minor": 5
}
